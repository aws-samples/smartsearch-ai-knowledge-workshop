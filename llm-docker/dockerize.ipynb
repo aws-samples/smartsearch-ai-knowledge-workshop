{
 "cells": [
  {
   "cell_type": "markdown",
   "id": "57e87329-d625-4147-8ca9-5899360f5bdd",
   "metadata": {},
   "source": [
    "# Dockerize application"
   ]
  },
  {
   "cell_type": "markdown",
   "id": "d970c4b1-65a6-4d33-9626-82c5014c4d38",
   "metadata": {},
   "source": [
    "## Prepare docker"
   ]
  },
  {
   "cell_type": "markdown",
   "id": "583a6f13-ef1a-4c22-bd51-db04dd9428f1",
   "metadata": {},
   "source": [
    "Write docker ingore"
   ]
  },
  {
   "cell_type": "code",
   "execution_count": 15,
   "id": "8450b3e7-25d0-4759-9ce0-4b93555f641b",
   "metadata": {
    "tags": []
   },
   "outputs": [
    {
     "name": "stdout",
     "output_type": "stream",
     "text": [
      "Overwriting .dockerignore\n"
     ]
    }
   ],
   "source": [
    "%%writefile .dockerignore\n",
    "\n",
    ".ipynb_checkpoints\n",
    "__pycache__\n",
    ".venv\n",
    ".venv_test\n",
    "chatglm-6b"
   ]
  },
  {
   "cell_type": "markdown",
   "id": "4fff2839-dd96-475e-85c4-4b6bd6f07177",
   "metadata": {},
   "source": [
    "Write Dockerfile to build docker"
   ]
  },
  {
   "cell_type": "code",
   "execution_count": 60,
   "id": "b89a85c2-07df-481a-976c-c854148a94cf",
   "metadata": {
    "tags": []
   },
   "outputs": [
    {
     "name": "stdout",
     "output_type": "stream",
     "text": [
      "Overwriting Dockerfile\n"
     ]
    }
   ],
   "source": [
    "%%writefile Dockerfile\n",
    "\n",
    "FROM nvidia/cuda:12.2.0-devel-ubuntu22.04 AS base\n",
    "\n",
    "## install python and pip\n",
    "RUN apt-get update -y\n",
    "RUN apt-get install --assume-yes software-properties-common\n",
    "RUN apt-get install python3-pip -y\n",
    "RUN apt-get install vim -y\n",
    "\n",
    "## create user instead root\n",
    "RUN adduser --disabled-login --gecos \"First Last,RoomNumber,WorkPhone,HomePhone\" llm\n",
    "USER llm\n",
    "WORKDIR /home/llm\n",
    "ENV PATH=\"/home/llm/.local/bin:${PATH}\"\n",
    "\n",
    "# update pip\n",
    "RUN pip3 install --upgrade pip -i http://mirrors.aliyun.com/pypi/simple/ --trusted-host mirrors.aliyun.com\n",
    "# COPY chatglm2-6b chatglm-6b and MAKE the following files cachable\n",
    "COPY chatglm2-6b/config.json chatglm-6b/config.json\n",
    "COPY chatglm2-6b/configuration_chatglm.py chatglm-6b/configuration_chatglm.py\n",
    "COPY chatglm2-6b/modeling_chatglm.py chatglm-6b/modeling_chatglm.py\n",
    "COPY chatglm2-6b/MODEL_LICENSE chatglm-6b/MODEL_LICENSE\n",
    "COPY chatglm2-6b/pytorch_model-00001-of-00007.bin chatglm-6b/pytorch_model-00001-of-00007.bin\n",
    "COPY chatglm2-6b/pytorch_model-00002-of-00007.bin chatglm-6b/pytorch_model-00002-of-00007.bin\n",
    "COPY chatglm2-6b/pytorch_model-00003-of-00007.bin chatglm-6b/pytorch_model-00003-of-00007.bin\n",
    "COPY chatglm2-6b/pytorch_model-00004-of-00007.bin chatglm-6b/pytorch_model-00004-of-00007.bin\n",
    "COPY chatglm2-6b/pytorch_model-00005-of-00007.bin chatglm-6b/pytorch_model-00005-of-00007.bin\n",
    "COPY chatglm2-6b/pytorch_model-00006-of-00007.bin chatglm-6b/pytorch_model-00006-of-00007.bin\n",
    "COPY chatglm2-6b/pytorch_model-00007-of-00007.bin chatglm-6b/pytorch_model-00007-of-00007.bin\n",
    "COPY chatglm2-6b/pytorch_model.bin.index.json chatglm-6b/pytorch_model.bin.index.json\n",
    "COPY chatglm2-6b/quantization.py chatglm-6b/quantization.py\n",
    "COPY chatglm2-6b/README.md chatglm-6b/README.md\n",
    "COPY chatglm2-6b/tokenization_chatglm.py chatglm-6b/tokenization_chatglm.py\n",
    "COPY chatglm2-6b/tokenizer_config.json chatglm-6b/tokenizer_config.json\n",
    "COPY chatglm2-6b/tokenizer.model chatglm-6b/tokenizer.model\n",
    "\n",
    "\n",
    "FROM base AS llm_smart_search_python_env\n",
    "## copy requirements and install dependencies\n",
    "COPY --chown=llm:llm requirements.txt .\n",
    "RUN pip3 install --ignore-installed --no-cache-dir --user -r requirements.txt -i http://mirrors.aliyun.com/pypi/simple/ --trusted-host mirrors.aliyun.com\n",
    "\n",
    "FROM llm_smart_search_python_env AS llm_smart_search\n",
    "COPY --chown=llm:llm main.py .\n",
    "\n",
    "## run the application\n",
    "CMD [ \"flask\", \"--app\", \"main\", \"run\",\"--host\",\"0.0.0.0\",\"--port\",\"5000\"]\n"
   ]
  },
  {
   "cell_type": "markdown",
   "id": "c71d0d1e-a184-47dd-b58a-5822920f40cd",
   "metadata": {},
   "source": [
    "## Build docker\n",
    "To build the docker image, first login to ECR.\n",
    "\n",
    "### Build image"
   ]
  },
  {
   "cell_type": "markdown",
   "id": "5b68523e-5921-4327-a836-e7d4be47dcb1",
   "metadata": {},
   "source": [
    "Next, build your custom docker container, tagging it with the name \"llm_smart_search\"."
   ]
  },
  {
   "cell_type": "code",
   "execution_count": 61,
   "id": "7fcb6920-4259-4849-859f-e15331ce0ec4",
   "metadata": {
    "tags": []
   },
   "outputs": [
    {
     "name": "stdout",
     "output_type": "stream",
     "text": [
      "Sending build context to Docker daemon  24.98GB\n",
      "Step 1/31 : FROM nvidia/cuda:12.2.0-devel-ubuntu22.04\n",
      " ---> c5a448dd0547\n",
      "Step 2/31 : RUN apt-get update -y\n",
      " ---> Using cache\n",
      " ---> 81dbe3b14244\n",
      "Step 3/31 : RUN apt-get install --assume-yes software-properties-common\n",
      " ---> Using cache\n",
      " ---> 481b61e472b0\n",
      "Step 4/31 : RUN apt-get install vim -y\n",
      " ---> Using cache\n",
      " ---> 8a63e2c609c0\n",
      "Step 5/31 : RUN apt-get install python3-pip -y\n",
      " ---> Using cache\n",
      " ---> 610e4e975059\n",
      "Step 6/31 : RUN adduser --disabled-login --gecos \"First Last,RoomNumber,WorkPhone,HomePhone\" llm\n",
      " ---> Using cache\n",
      " ---> d63e12df40b2\n",
      "Step 7/31 : USER llm\n",
      " ---> Using cache\n",
      " ---> 7dfe6fa60682\n",
      "Step 8/31 : WORKDIR /home/llm\n",
      " ---> Using cache\n",
      " ---> 2ccc74ca77d9\n",
      "Step 9/31 : ENV PATH=\"/home/llm/.local/bin:${PATH}\"\n",
      " ---> Using cache\n",
      " ---> 18c6143c95ce\n",
      "Step 10/31 : RUN pip3 install --upgrade pip -i http://mirrors.aliyun.com/pypi/simple/ --trusted-host mirrors.aliyun.com\n",
      " ---> Using cache\n",
      " ---> 96caae63e59f\n",
      "Step 11/31 : COPY chatglm2-6b/config.json chatglm-6b/config.json\n",
      " ---> Using cache\n",
      " ---> 103e2bc97d34\n",
      "Step 12/31 : COPY chatglm2-6b/configuration_chatglm.py chatglm-6b/configuration_chatglm.py\n",
      " ---> Using cache\n",
      " ---> 113d671dad86\n",
      "Step 13/31 : COPY chatglm2-6b/modeling_chatglm.py chatglm-6b/modeling_chatglm.py\n",
      " ---> Using cache\n",
      " ---> 34f6b4abd277\n",
      "Step 14/31 : COPY chatglm2-6b/MODEL_LICENSE chatglm-6b/MODEL_LICENSE\n",
      " ---> Using cache\n",
      " ---> 614e060c6e84\n",
      "Step 15/31 : COPY chatglm2-6b/pytorch_model-00001-of-00007.bin chatglm-6b/pytorch_model-00001-of-00007.bin\n",
      " ---> Using cache\n",
      " ---> 1ffaeea0710d\n",
      "Step 16/31 : COPY chatglm2-6b/pytorch_model-00002-of-00007.bin chatglm-6b/pytorch_model-00002-of-00007.bin\n",
      " ---> Using cache\n",
      " ---> a0cdfeea1282\n",
      "Step 17/31 : COPY chatglm2-6b/pytorch_model-00003-of-00007.bin chatglm-6b/pytorch_model-00003-of-00007.bin\n",
      " ---> Using cache\n",
      " ---> ca560f7087a3\n",
      "Step 18/31 : COPY chatglm2-6b/pytorch_model-00004-of-00007.bin chatglm-6b/pytorch_model-00004-of-00007.bin\n",
      " ---> Using cache\n",
      " ---> 92e82409f51d\n",
      "Step 19/31 : COPY chatglm2-6b/pytorch_model-00005-of-00007.bin chatglm-6b/pytorch_model-00005-of-00007.bin\n",
      " ---> Using cache\n",
      " ---> 78697526d502\n",
      "Step 20/31 : COPY chatglm2-6b/pytorch_model-00006-of-00007.bin chatglm-6b/pytorch_model-00006-of-00007.bin\n",
      " ---> Using cache\n",
      " ---> 3da2ce8cd5d0\n",
      "Step 21/31 : COPY chatglm2-6b/pytorch_model-00007-of-00007.bin chatglm-6b/pytorch_model-00007-of-00007.bin\n",
      " ---> Using cache\n",
      " ---> 694e0167fa98\n",
      "Step 22/31 : COPY chatglm2-6b/pytorch_model.bin.index.json chatglm-6b/pytorch_model.bin.index.json\n",
      " ---> Using cache\n",
      " ---> 35b1f6baedc1\n",
      "Step 23/31 : COPY chatglm2-6b/quantization.py chatglm-6b/quantization.py\n",
      " ---> Using cache\n",
      " ---> 876540fbf1ae\n",
      "Step 24/31 : COPY chatglm2-6b/README.md chatglm-6b/README.md\n",
      " ---> Using cache\n",
      " ---> 52dbc3c910ed\n",
      "Step 25/31 : COPY chatglm2-6b/tokenization_chatglm.py chatglm-6b/tokenization_chatglm.py\n",
      " ---> Using cache\n",
      " ---> cbd30f6b8bad\n",
      "Step 26/31 : COPY chatglm2-6b/tokenizer_config.json chatglm-6b/tokenizer_config.json\n",
      " ---> Using cache\n",
      " ---> cb27e6faa555\n",
      "Step 27/31 : COPY chatglm2-6b/tokenizer.model chatglm-6b/tokenizer.model\n",
      " ---> Using cache\n",
      " ---> 0136671231ba\n",
      "Step 28/31 : COPY --chown=llm:llm requirements.txt .\n",
      " ---> Using cache\n",
      " ---> 05fea479e566\n",
      "Step 29/31 : RUN pip3 install --ignore-installed --no-cache-dir --user -r requirements.txt -i http://mirrors.aliyun.com/pypi/simple/ --trusted-host mirrors.aliyun.com\n",
      " ---> Using cache\n",
      " ---> e1c81b8ee3bf\n",
      "Step 30/31 : COPY --chown=llm:llm main.py .\n",
      " ---> Using cache\n",
      " ---> 4a166199ecc7\n",
      "Step 31/31 : CMD [ \"flask\", \"--app\", \"main\", \"run\",\"--host\",\"0.0.0.0\",\"--port\",\"5000\"]\n",
      " ---> Using cache\n",
      " ---> 1aa510e15b4f\n",
      "[Warning] One or more build-args [region] were not consumed\n",
      "Successfully built 1aa510e15b4f\n",
      "Successfully tagged llm_smart_search:latest\n"
     ]
    }
   ],
   "source": [
    "%%sh\n",
    "docker build -t llm_smart_search --target llm_smart_search -f Dockerfile . --build-arg region=$(aws configure get region)"
   ]
  },
  {
   "cell_type": "markdown",
   "id": "fdddf889-144f-46b0-8b16-f3994407b4d7",
   "metadata": {},
   "source": [
    "### Push image to ecr\n",
    "Login to AWS ECR"
   ]
  },
  {
   "cell_type": "code",
   "execution_count": null,
   "id": "d783a5cd-a617-4b3d-9eb8-8794e98adb0b",
   "metadata": {
    "tags": []
   },
   "outputs": [],
   "source": [
    "%%sh\n",
    "REGION=$(aws configure get region)\n",
    "account=$(aws sts get-caller-identity --query Account --output text)\n",
    "\n",
    "# https://docs.aws.amazon.com/sagemaker/latest/dg-ecr-paths/ecr-cn-north-1.html\n",
    "docker login --username AWS --password $(aws ecr get-login-password --region cn-north-1) 727897471807.dkr.ecr.cn-north-1.amazonaws.com.cn\n",
    "aws ecr get-login-password --region ${REGION} | docker login --username AWS --password-stdin ${account}.dkr.ecr.${REGION}.amazonaws.com.cn"
   ]
  },
  {
   "cell_type": "code",
   "execution_count": null,
   "id": "81bc804a-a0a7-44b7-9279-080906848bd8",
   "metadata": {
    "tags": []
   },
   "outputs": [],
   "source": [
    "!pip install -q boto3"
   ]
  },
  {
   "cell_type": "markdown",
   "id": "97e134bf-b2e3-48be-82c7-42aecf43b6a4",
   "metadata": {},
   "source": [
    "Create ecr repo"
   ]
  },
  {
   "cell_type": "code",
   "execution_count": 49,
   "id": "79239bfa-4209-47bb-b25e-d30e94e770c5",
   "metadata": {
    "tags": []
   },
   "outputs": [
    {
     "name": "stdout",
     "output_type": "stream",
     "text": [
      "ecr_image: 592356948544.dkr.ecr.cn-north-1.amazonaws.com.cn/llm_smart_search:latest\n",
      "Repo exists...\n"
     ]
    }
   ],
   "source": [
    "import boto3\n",
    "import sagemaker\n",
    "\n",
    "# role = sagemaker.get_execution_role()\n",
    "sagemaker_session = sagemaker.Session()\n",
    "\n",
    "region = sagemaker_session.boto_region_name\n",
    "account = !aws sts get-caller-identity --query Account --output text\n",
    "algorithm_name = \"llm_smart_search\"\n",
    "\n",
    "ecr_image = '{}.dkr.ecr.{}.amazonaws.com.cn/{}:latest'.format(account[0], region, algorithm_name)\n",
    "print('ecr_image: {}'.format(ecr_image))\n",
    "\n",
    "ecr_client = boto3.client('ecr')\n",
    "try:\n",
    "    response = ecr_client.describe_repositories(\n",
    "        repositoryNames=[\n",
    "            algorithm_name,\n",
    "        ],\n",
    "    )\n",
    "    print(\"Repo exists...\")\n",
    "except Exception as e:\n",
    "    create_repo = ecr_client.create_repository(repositoryName=algorithm_name)\n",
    "    print(\"Created repo...\")\n"
   ]
  },
  {
   "cell_type": "markdown",
   "id": "8aeb9e35-61b2-46e7-8a7e-63feb57f2813",
   "metadata": {},
   "source": [
    "Push the image"
   ]
  },
  {
   "cell_type": "code",
   "execution_count": 50,
   "id": "89f11209-62b6-43bd-a253-72235ea7de95",
   "metadata": {
    "tags": []
   },
   "outputs": [
    {
     "name": "stdout",
     "output_type": "stream",
     "text": [
      "The push refers to repository [592356948544.dkr.ecr.cn-north-1.amazonaws.com.cn/llm_smart_search]\n",
      "\n",
      "\u001b[1B5a193b37: Preparing \n",
      "\u001b[1B34f2e81f: Preparing \n",
      "\u001b[1Bda7e0b0c: Preparing \n",
      "\u001b[1B91cad399: Preparing \n",
      "\u001b[1Be3a983ea: Preparing \n",
      "\u001b[1B7c06f7c3: Preparing \n",
      "\u001b[1B63807a65: Preparing \n",
      "\u001b[1Bd7e2ba9f: Preparing \n",
      "\u001b[1B63ddf0a0: Preparing \n",
      "\u001b[1B2db41638: Preparing \n",
      "\u001b[1B0fd8f4d5: Preparing \n",
      "\u001b[1B0b80bc94: Preparing \n",
      "\u001b[1B16ad47c1: Preparing \n",
      "\u001b[1Bd220aee8: Preparing \n",
      "\u001b[8Bd7e2ba9f: Waiting g \n",
      "\u001b[8B63ddf0a0: Waiting g \n",
      "\u001b[7B0fd8f4d5: Waiting g \n",
      "\u001b[1B1a096ada: Preparing \n",
      "\u001b[1Bbc7e829b: Preparing \n",
      "\u001b[1B0820f4d6: Preparing \n",
      "\u001b[1Bdaf64309: Preparing \n",
      "\u001b[1Bfe055fc5: Preparing \n",
      "\u001b[1Bcc35140f: Preparing \n",
      "\u001b[12B6ad47c1: Waiting g \n",
      "\u001b[1B1ed71ae3: Preparing \n",
      "\u001b[13B220aee8: Waiting g \n",
      "\u001b[1Bc1c8a611: Preparing \n",
      "\u001b[14B685e426: Waiting g \n",
      "\u001b[7Bcc35140f: Waiting g \n",
      "\u001b[7B1ac317ad: Waiting g \n",
      "\u001b[1B183ab665: Preparing \n",
      "\u001b[1B9b4c9dc9: Preparing \n",
      "\u001b[1Bfa8b3ec4: Preparing \n",
      "\u001b[10Bed71ae3: Waiting g \n",
      "\u001b[1B7ce4f321: Preparing \n",
      "\u001b[10B1c8a611: Waiting g \n",
      "\u001b[37Ba193b37: Pushed   4.786GB/4.758GB\u001b[36A\u001b[2K\u001b[37A\u001b[2K\u001b[33A\u001b[2K\u001b[35A\u001b[2K\u001b[32A\u001b[2K\u001b[31A\u001b[2K\u001b[37A\u001b[2K\u001b[30A\u001b[2K\u001b[37A\u001b[2K\u001b[30A\u001b[2K\u001b[32A\u001b[2K\u001b[30A\u001b[2K\u001b[29A\u001b[2K\u001b[37A\u001b[2K\u001b[30A\u001b[2K\u001b[37A\u001b[2K\u001b[30A\u001b[2K\u001b[28A\u001b[2K\u001b[30A\u001b[2K\u001b[29A\u001b[2K\u001b[37A\u001b[2K\u001b[30A\u001b[2K\u001b[28A\u001b[2K\u001b[30A\u001b[2K\u001b[28A\u001b[2K\u001b[27A\u001b[2K\u001b[29A\u001b[2K\u001b[37A\u001b[2K\u001b[30A\u001b[2K\u001b[28A\u001b[2K\u001b[30A\u001b[2K\u001b[28A\u001b[2K\u001b[30A\u001b[2K\u001b[37A\u001b[2K\u001b[30A\u001b[2K\u001b[28A\u001b[2K\u001b[30A\u001b[2K\u001b[28A\u001b[2K\u001b[37A\u001b[2K\u001b[30A\u001b[2K\u001b[37A\u001b[2K\u001b[30A\u001b[2K\u001b[28A\u001b[2K\u001b[30A\u001b[2K\u001b[28A\u001b[2K\u001b[27A\u001b[2K\u001b[30A\u001b[2K\u001b[27A\u001b[2K\u001b[30A\u001b[2K\u001b[28A\u001b[2K\u001b[37A\u001b[2K\u001b[29A\u001b[2K\u001b[27A\u001b[2K\u001b[30A\u001b[2K\u001b[28A\u001b[2K\u001b[30A\u001b[2K\u001b[28A\u001b[2K\u001b[37A\u001b[2K\u001b[29A\u001b[2K\u001b[27A\u001b[2K\u001b[30A\u001b[2K\u001b[28A\u001b[2K\u001b[30A\u001b[2K\u001b[28A\u001b[2K\u001b[37A\u001b[2K\u001b[30A\u001b[2K\u001b[27A\u001b[2K\u001b[30A\u001b[2K\u001b[28A\u001b[2K\u001b[37A\u001b[2K\u001b[28A\u001b[2K\u001b[27A\u001b[2K\u001b[30A\u001b[2K\u001b[28A\u001b[2K\u001b[37A\u001b[2K\u001b[28A\u001b[2K\u001b[37A\u001b[2K\u001b[29A\u001b[2K\u001b[27A\u001b[2K\u001b[30A\u001b[2K\u001b[27A\u001b[2K\u001b[37A\u001b[2K\u001b[28A\u001b[2K\u001b[37A\u001b[2K\u001b[29A\u001b[2K\u001b[27A\u001b[2K\u001b[30A\u001b[2K\u001b[27A\u001b[2K\u001b[30A\u001b[2K\u001b[28A\u001b[2K\u001b[29A\u001b[2K\u001b[27A\u001b[2K\u001b[30A\u001b[2K\u001b[27A\u001b[2K\u001b[30A\u001b[2K\u001b[28A\u001b[2K\u001b[27A\u001b[2K\u001b[37A\u001b[2K\u001b[27A\u001b[2K\u001b[37A\u001b[2K\u001b[27A\u001b[2K\u001b[28A\u001b[2K\u001b[27A\u001b[2K\u001b[30A\u001b[2K\u001b[27A\u001b[2K\u001b[37A\u001b[2K\u001b[28A\u001b[2K\u001b[27A\u001b[2K\u001b[30A\u001b[2K\u001b[27A\u001b[2K\u001b[29A\u001b[2K\u001b[27A\u001b[2K\u001b[29A\u001b[2K\u001b[28A\u001b[2K\u001b[37A\u001b[2K\u001b[30A\u001b[2K\u001b[27A\u001b[2K\u001b[29A\u001b[2K\u001b[37A\u001b[2K\u001b[29A\u001b[2K\u001b[28A\u001b[2K\u001b[27A\u001b[2K\u001b[30A\u001b[2K\u001b[27A\u001b[2K\u001b[29A\u001b[2K\u001b[28A\u001b[2K\u001b[29A\u001b[2K\u001b[30A\u001b[2K\u001b[27A\u001b[2K\u001b[30A\u001b[2K\u001b[27A\u001b[2K\u001b[29A\u001b[2K\u001b[37A\u001b[2K\u001b[29A\u001b[2K\u001b[30A\u001b[2K\u001b[29A\u001b[2K\u001b[37A\u001b[2K\u001b[27A\u001b[2K\u001b[29A\u001b[2K\u001b[28A\u001b[2K\u001b[29A\u001b[2K\u001b[30A\u001b[2K\u001b[27A\u001b[2K\u001b[29A\u001b[2K\u001b[27A\u001b[2K\u001b[37A\u001b[2K\u001b[30A\u001b[2K\u001b[37A\u001b[2K\u001b[30A\u001b[2K\u001b[27A\u001b[2K\u001b[29A\u001b[2K\u001b[27A\u001b[2K\u001b[29A\u001b[2K\u001b[30A\u001b[2K\u001b[29A\u001b[2K\u001b[30A\u001b[2K\u001b[27A\u001b[2K\u001b[29A\u001b[2K\u001b[37A\u001b[2K\u001b[29A\u001b[2K\u001b[30A\u001b[2K\u001b[29A\u001b[2K\u001b[30A\u001b[2K\u001b[27A\u001b[2K\u001b[29A\u001b[2K\u001b[30A\u001b[2K\u001b[29A\u001b[2K\u001b[37A\u001b[2K\u001b[27A\u001b[2K\u001b[37A\u001b[2K\u001b[27A\u001b[2K\u001b[37A\u001b[2K\u001b[30A\u001b[2K\u001b[37A\u001b[2K\u001b[30A\u001b[2K\u001b[27A\u001b[2K\u001b[29A\u001b[2K\u001b[27A\u001b[2K\u001b[29A\u001b[2K\u001b[30A\u001b[2K\u001b[29A\u001b[2K\u001b[30A\u001b[2K\u001b[27A\u001b[2K\u001b[30A\u001b[2K\u001b[28A\u001b[2K\u001b[29A\u001b[2K\u001b[30A\u001b[2K\u001b[29A\u001b[2K\u001b[30A\u001b[2K\u001b[27A\u001b[2K\u001b[30A\u001b[2K\u001b[37A\u001b[2K\u001b[30A\u001b[2K\u001b[37A\u001b[2K\u001b[29A\u001b[2K\u001b[37A\u001b[2K\u001b[27A\u001b[2K\u001b[37A\u001b[2K\u001b[28A\u001b[2K\u001b[29A\u001b[2K\u001b[28A\u001b[2K\u001b[27A\u001b[2K\u001b[30A\u001b[2K\u001b[27A\u001b[2K\u001b[30A\u001b[2K\u001b[28A\u001b[2K\u001b[29A\u001b[2K\u001b[28A\u001b[2K\u001b[37A\u001b[2K\u001b[30A\u001b[2K\u001b[28A\u001b[2K\u001b[30A\u001b[2K\u001b[28A\u001b[2K\u001b[29A\u001b[2K\u001b[37A\u001b[2K\u001b[27A\u001b[2K\u001b[30A\u001b[2K\u001b[37A\u001b[2K\u001b[29A\u001b[2K\u001b[37A\u001b[2K\u001b[27A\u001b[2K\u001b[30A\u001b[2K\u001b[27A\u001b[2K\u001b[30A\u001b[2K\u001b[28A\u001b[2K\u001b[29A\u001b[2K\u001b[37A\u001b[2K\u001b[27A\u001b[2K\u001b[30A\u001b[2K\u001b[27A\u001b[2K\u001b[37A\u001b[2K\u001b[28A\u001b[2K\u001b[27A\u001b[2K\u001b[28A\u001b[2K\u001b[27A\u001b[2K\u001b[30A\u001b[2K\u001b[28A\u001b[2K\u001b[29A\u001b[2K\u001b[28A\u001b[2K\u001b[37A\u001b[2K\u001b[28A\u001b[2K\u001b[37A\u001b[2K\u001b[30A\u001b[2K\u001b[28A\u001b[2K\u001b[29A\u001b[2K\u001b[28A\u001b[2K\u001b[37A\u001b[2K\u001b[28A\u001b[2K\u001b[27A\u001b[2K\u001b[30A\u001b[2K\u001b[28A\u001b[2K\u001b[29A\u001b[2K\u001b[28A\u001b[2K\u001b[29A\u001b[2K\u001b[30A\u001b[2K\u001b[28A\u001b[2K\u001b[30A\u001b[2K\u001b[28A\u001b[2K\u001b[29A\u001b[2K\u001b[28A\u001b[2K\u001b[27A\u001b[2K\u001b[30A\u001b[2K\u001b[37A\u001b[2K\u001b[30A\u001b[2K\u001b[37A\u001b[2K\u001b[29A\u001b[2K\u001b[37A\u001b[2K\u001b[27A\u001b[2K\u001b[30A\u001b[2K\u001b[28A\u001b[2K\u001b[30A\u001b[2K\u001b[37A\u001b[2K\u001b[29A\u001b[2K\u001b[37A\u001b[2K\u001b[29A\u001b[2K\u001b[37A\u001b[2K\u001b[28A\u001b[2K\u001b[29A\u001b[2K\u001b[28A\u001b[2K\u001b[29A\u001b[2K\u001b[30A\u001b[2K\u001b[27A\u001b[2K\u001b[30A\u001b[2K\u001b[28A\u001b[2K\u001b[30A\u001b[2K\u001b[28A\u001b[2K\u001b[29A\u001b[2K\u001b[30A\u001b[2K\u001b[27A\u001b[2K\u001b[30A\u001b[2K\u001b[28A\u001b[2K\u001b[37A\u001b[2K\u001b[28A\u001b[2K\u001b[29A\u001b[2K\u001b[30A\u001b[2K\u001b[28A\u001b[2K\u001b[37A\u001b[2K\u001b[28A\u001b[2K\u001b[37A\u001b[2K\u001b[28A\u001b[2K\u001b[29A\u001b[2K\u001b[30A\u001b[2K\u001b[28A\u001b[2K\u001b[30A\u001b[2K\u001b[28A\u001b[2K\u001b[27A\u001b[2K\u001b[30A\u001b[2K\u001b[27A\u001b[2K\u001b[30A\u001b[2K\u001b[28A\u001b[2K\u001b[30A\u001b[2K\u001b[28A\u001b[2K\u001b[30A\u001b[2K\u001b[29A\u001b[2K\u001b[30A\u001b[2K\u001b[28A\u001b[2K\u001b[30A\u001b[2K\u001b[37A\u001b[2K\u001b[27A\u001b[2K\u001b[37A\u001b[2K\u001b[28A\u001b[2K\u001b[37A\u001b[2K\u001b[28A\u001b[2K\u001b[37A\u001b[2K\u001b[28A\u001b[2K\u001b[27A\u001b[2K\u001b[30A\u001b[2K\u001b[28A\u001b[2K\u001b[30A\u001b[2K\u001b[37A\u001b[2K\u001b[30A\u001b[2K\u001b[29A\u001b[2K\u001b[37A\u001b[2K\u001b[28A\u001b[2K\u001b[37A\u001b[2K\u001b[28A\u001b[2K\u001b[37A\u001b[2KPushing  398.3MB/1.053GB\u001b[27A\u001b[2K\u001b[30A\u001b[2K\u001b[29A\u001b[2K\u001b[30A\u001b[2K\u001b[28A\u001b[2K\u001b[30A\u001b[2K\u001b[28A\u001b[2K\u001b[30A\u001b[2K\u001b[28A\u001b[2K\u001b[37A\u001b[2K\u001b[28A\u001b[2K\u001b[37A\u001b[2K\u001b[28A\u001b[2K\u001b[37A\u001b[2K\u001b[29A\u001b[2K\u001b[28A\u001b[2K\u001b[30A\u001b[2K\u001b[28A\u001b[2K\u001b[30A\u001b[2K\u001b[29A\u001b[2K\u001b[30A\u001b[2K\u001b[29A\u001b[2K\u001b[30A\u001b[2K\u001b[29A\u001b[2K\u001b[30A\u001b[2K\u001b[29A\u001b[2K\u001b[27A\u001b[2K\u001b[29A\u001b[2K\u001b[37A\u001b[2K\u001b[30A\u001b[2K\u001b[37A\u001b[2K\u001b[30A\u001b[2K\u001b[37A\u001b[2K\u001b[30A\u001b[2K\u001b[29A\u001b[2K\u001b[30A\u001b[2K\u001b[29A\u001b[2K\u001b[30A\u001b[2K\u001b[29A\u001b[2K\u001b[37A\u001b[2K\u001b[29A\u001b[2K\u001b[37A\u001b[2K\u001b[29A\u001b[2K\u001b[27A\u001b[2K\u001b[29A\u001b[2K\u001b[27A\u001b[2K\u001b[30A\u001b[2K\u001b[37A\u001b[2K\u001b[29A\u001b[2K\u001b[37A\u001b[2K\u001b[29A\u001b[2K\u001b[28A\u001b[2K\u001b[29A\u001b[2K\u001b[30A\u001b[2K\u001b[37A\u001b[2K\u001b[30A\u001b[2K\u001b[27A\u001b[2K\u001b[30A\u001b[2K\u001b[37A\u001b[2K\u001b[30A\u001b[2K\u001b[27A\u001b[2K\u001b[28A\u001b[2K\u001b[27A\u001b[2K\u001b[28A\u001b[2K\u001b[27A\u001b[2K\u001b[29A\u001b[2K\u001b[27A\u001b[2K\u001b[30A\u001b[2K\u001b[28A\u001b[2K\u001b[37A\u001b[2K\u001b[28A\u001b[2K\u001b[37A\u001b[2K\u001b[28A\u001b[2K\u001b[37A\u001b[2K\u001b[28A\u001b[2K\u001b[37A\u001b[2K\u001b[30A\u001b[2K\u001b[27A\u001b[2K\u001b[30A\u001b[2K\u001b[37A\u001b[2K\u001b[30A\u001b[2K\u001b[27A\u001b[2K\u001b[30A\u001b[2K\u001b[27A\u001b[2K\u001b[30A\u001b[2K\u001b[27A\u001b[2K\u001b[29A\u001b[2K\u001b[28A\u001b[2K\u001b[29A\u001b[2K\u001b[28A\u001b[2K\u001b[27A\u001b[2K\u001b[30A\u001b[2K\u001b[37A\u001b[2K\u001b[28A\u001b[2K\u001b[37A\u001b[2K\u001b[29A\u001b[2K\u001b[27A\u001b[2K\u001b[29A\u001b[2K\u001b[27A\u001b[2K\u001b[29A\u001b[2K\u001b[30A\u001b[2K\u001b[29A\u001b[2K\u001b[30A\u001b[2K\u001b[29A\u001b[2K\u001b[27A\u001b[2K\u001b[29A\u001b[2K\u001b[27A\u001b[2K\u001b[30A\u001b[2K\u001b[27A\u001b[2K\u001b[37A\u001b[2K\u001b[27A\u001b[2K\u001b[29A\u001b[2K\u001b[28A\u001b[2K\u001b[30A\u001b[2K\u001b[28A\u001b[2K\u001b[37A\u001b[2K\u001b[28A\u001b[2K\u001b[29A\u001b[2K\u001b[30A\u001b[2K\u001b[37A\u001b[2K\u001b[29A\u001b[2K\u001b[37A\u001b[2K\u001b[29A\u001b[2K\u001b[37A\u001b[2K\u001b[37A\u001b[2K\u001b[29A\u001b[2K\u001b[27A\u001b[2K\u001b[29A\u001b[2K\u001b[28A\u001b[2K\u001b[29A\u001b[2K\u001b[30A\u001b[2K\u001b[29A\u001b[2K\u001b[27A\u001b[2K\u001b[29A\u001b[2K\u001b[27A\u001b[2K\u001b[29A\u001b[2K\u001b[27A\u001b[2K\u001b[30A\u001b[2K\u001b[29A\u001b[2K\u001b[30A\u001b[2K\u001b[29A\u001b[2K\u001b[30A\u001b[2K\u001b[27A\u001b[2K\u001b[30A\u001b[2K\u001b[28A\u001b[2K\u001b[30A\u001b[2K\u001b[28A\u001b[2K\u001b[30A\u001b[2K\u001b[29A\u001b[2K\u001b[37A\u001b[2K\u001b[29A\u001b[2K\u001b[30A\u001b[2K\u001b[28A\u001b[2K\u001b[30A\u001b[2K\u001b[29A\u001b[2KPushing  553.7MB/1.815GB\u001b[29A\u001b[2K\u001b[27A\u001b[2K\u001b[29A\u001b[2K\u001b[27A\u001b[2K\u001b[29A\u001b[2K\u001b[27A\u001b[2K\u001b[29A\u001b[2K\u001b[30A\u001b[2K\u001b[29A\u001b[2K\u001b[27A\u001b[2K\u001b[29A\u001b[2K\u001b[30A\u001b[2K\u001b[29A\u001b[2K\u001b[30A\u001b[2K\u001b[29A\u001b[2K\u001b[28A\u001b[2K\u001b[29A\u001b[2K\u001b[30A\u001b[2K\u001b[29A\u001b[2K\u001b[30A\u001b[2K\u001b[29A\u001b[2K\u001b[27A\u001b[2K\u001b[29A\u001b[2K\u001b[27A\u001b[2K\u001b[29A\u001b[2K\u001b[27A\u001b[2K\u001b[37A\u001b[2K\u001b[27A\u001b[2K\u001b[37A\u001b[2K\u001b[27A\u001b[2K\u001b[37A\u001b[2K\u001b[27A\u001b[2K\u001b[37A\u001b[2K\u001b[27A\u001b[2K\u001b[29A\u001b[2K\u001b[27A\u001b[2K\u001b[29A\u001b[2K\u001b[27A\u001b[2K\u001b[30A\u001b[2K\u001b[27A\u001b[2K\u001b[28A\u001b[2K\u001b[27A\u001b[2K\u001b[28A\u001b[2K\u001b[27A\u001b[2K\u001b[28A\u001b[2K\u001b[27A\u001b[2K\u001b[28A\u001b[2K\u001b[37A\u001b[2K\u001b[28A\u001b[2K\u001b[30A\u001b[2K\u001b[28A\u001b[2K\u001b[30A\u001b[2K\u001b[28A\u001b[2K\u001b[30A\u001b[2K\u001b[28A\u001b[2K\u001b[30A\u001b[2K\u001b[28A\u001b[2K\u001b[30A\u001b[2K\u001b[27A\u001b[2K\u001b[29A\u001b[2K\u001b[27A\u001b[2K\u001b[29A\u001b[2K\u001b[37A\u001b[2K\u001b[29A\u001b[2K\u001b[37A\u001b[2K\u001b[29A\u001b[2K\u001b[37A\u001b[2K\u001b[29A\u001b[2K\u001b[30A\u001b[2K\u001b[29A\u001b[2K\u001b[30A\u001b[2K\u001b[29A\u001b[2K\u001b[30A\u001b[2K\u001b[37A\u001b[2K\u001b[28A\u001b[2K\u001b[29A\u001b[2K\u001b[30A\u001b[2K\u001b[29A\u001b[2K\u001b[28A\u001b[2K\u001b[37A\u001b[2K\u001b[27A\u001b[2K\u001b[37A\u001b[2K\u001b[27A\u001b[2K\u001b[37A\u001b[2K\u001b[27A\u001b[2K\u001b[30A\u001b[2K\u001b[27A\u001b[2K\u001b[30A\u001b[2K\u001b[27A\u001b[2K\u001b[30A\u001b[2K\u001b[27A\u001b[2K\u001b[29A\u001b[2K\u001b[37A\u001b[2K\u001b[37A\u001b[2K\u001b[30A\u001b[2K\u001b[28A\u001b[2K\u001b[27A\u001b[2K\u001b[37A\u001b[2K\u001b[27A\u001b[2K\u001b[37A\u001b[2K\u001b[30A\u001b[2K\u001b[29A\u001b[2K\u001b[30A\u001b[2K\u001b[37A\u001b[2K\u001b[30A\u001b[2K\u001b[37A\u001b[2K\u001b[28A\u001b[2K\u001b[37A\u001b[2K\u001b[28A\u001b[2K\u001b[37A\u001b[2K\u001b[28A\u001b[2K\u001b[30A\u001b[2K\u001b[28A\u001b[2K\u001b[37A\u001b[2K\u001b[28A\u001b[2K\u001b[27A\u001b[2K\u001b[28A\u001b[2K\u001b[27A\u001b[2K\u001b[28A\u001b[2K\u001b[30A\u001b[2K\u001b[28A\u001b[2K\u001b[28A\u001b[2K\u001b[37A\u001b[2K\u001b[28A\u001b[2K\u001b[37A\u001b[2K\u001b[28A\u001b[2K\u001b[37A\u001b[2K\u001b[28A\u001b[2K\u001b[27A\u001b[2K\u001b[28A\u001b[2K\u001b[27A\u001b[2K\u001b[28A\u001b[2K\u001b[27A\u001b[2K\u001b[28A\u001b[2K\u001b[27A\u001b[2K\u001b[28A\u001b[2K\u001b[30A\u001b[2K\u001b[37A\u001b[2K\u001b[30A\u001b[2K\u001b[37A\u001b[2K\u001b[30A\u001b[2K\u001b[29A\u001b[2K\u001b[30A\u001b[2K\u001b[29A\u001b[2K\u001b[30A\u001b[2K\u001b[27A\u001b[2K\u001b[30A\u001b[2K\u001b[27A\u001b[2K\u001b[30A\u001b[2K\u001b[27A\u001b[2K\u001b[28A\u001b[2K\u001b[27A\u001b[2K\u001b[29A\u001b[2K\u001b[27A\u001b[2K\u001b[29A\u001b[2K\u001b[27A\u001b[2K\u001b[29A\u001b[2K\u001b[30A\u001b[2K\u001b[29A\u001b[2K\u001b[30A\u001b[2K\u001b[27A\u001b[2K\u001b[37A\u001b[2K\u001b[27A\u001b[2K\u001b[37A\u001b[2K\u001b[27A\u001b[2K\u001b[30A\u001b[2K\u001b[27A\u001b[2K\u001b[28A\u001b[2K\u001b[37A\u001b[2K\u001b[28A\u001b[2K\u001b[37A\u001b[2K\u001b[27A\u001b[2K\u001b[37A\u001b[2K\u001b[27A\u001b[2K\u001b[30A\u001b[2K\u001b[27A\u001b[2K\u001b[30A\u001b[2K\u001b[37A\u001b[2K\u001b[30A\u001b[2K\u001b[37A\u001b[2K\u001b[29A\u001b[2K\u001b[37A\u001b[2K\u001b[28A\u001b[2K\u001b[37A\u001b[2K\u001b[29A\u001b[2K\u001b[37A\u001b[2K\u001b[27A\u001b[2K\u001b[30A\u001b[2K\u001b[27A\u001b[2K\u001b[30A\u001b[2K\u001b[27A\u001b[2K\u001b[30A\u001b[2K\u001b[27A\u001b[2K\u001b[30A\u001b[2K\u001b[27A\u001b[2K\u001b[37A\u001b[2K\u001b[27A\u001b[2K\u001b[29A\u001b[2K\u001b[30A\u001b[2K\u001b[29A\u001b[2K\u001b[30A\u001b[2K\u001b[28A\u001b[2K\u001b[30A\u001b[2K\u001b[28A\u001b[2K\u001b[30A\u001b[2K\u001b[28A\u001b[2K\u001b[30A\u001b[2K\u001b[28A\u001b[2K\u001b[30A\u001b[2K\u001b[27A\u001b[2K\u001b[30A\u001b[2K\u001b[30A\u001b[2K\u001b[29A\u001b[2K\u001b[30A\u001b[2K\u001b[29A\u001b[2K\u001b[30A\u001b[2K\u001b[37A\u001b[2K\u001b[30A\u001b[2K\u001b[28A\u001b[2K\u001b[30A\u001b[2K\u001b[28A\u001b[2K\u001b[30A\u001b[2K\u001b[27A\u001b[2K\u001b[29A\u001b[2K\u001b[27A\u001b[2K\u001b[37A\u001b[2K\u001b[27A\u001b[2K\u001b[37A\u001b[2K\u001b[27A\u001b[2K\u001b[29A\u001b[2K\u001b[27A\u001b[2K\u001b[29A\u001b[2K\u001b[27A\u001b[2K\u001b[29A\u001b[2K\u001b[30A\u001b[2K\u001b[28A\u001b[2K\u001b[37A\u001b[2K\u001b[28A\u001b[2K\u001b[37A\u001b[2K\u001b[27A\u001b[2K\u001b[37A\u001b[2K\u001b[27A\u001b[2K\u001b[30A\u001b[2K\u001b[27A\u001b[2K\u001b[30A\u001b[2K\u001b[27A\u001b[2K\u001b[28A\u001b[2K\u001b[27A\u001b[2K\u001b[28A\u001b[2K\u001b[29A\u001b[2K\u001b[37A\u001b[2K\u001b[29A\u001b[2K\u001b[30A\u001b[2K\u001b[29A\u001b[2K\u001b[30A\u001b[2K\u001b[29A\u001b[2K\u001b[28A\u001b[2K\u001b[27A\u001b[2K\u001b[28A\u001b[2K\u001b[27A\u001b[2K\u001b[29A\u001b[2K\u001b[27A\u001b[2K\u001b[29A\u001b[2K\u001b[37A\u001b[2K\u001b[29A\u001b[2K\u001b[37A\u001b[2K\u001b[29A\u001b[2K\u001b[27A\u001b[2K\u001b[28A\u001b[2K\u001b[27A\u001b[2K\u001b[28A\u001b[2K\u001b[27A\u001b[2K\u001b[30A\u001b[2K\u001b[28A\u001b[2K\u001b[30A\u001b[2K\u001b[37A\u001b[2K\u001b[30A\u001b[2K\u001b[27A\u001b[2K\u001b[30A\u001b[2K\u001b[27A\u001b[2K\u001b[30A\u001b[2K\u001b[27A\u001b[2K\u001b[30A\u001b[2K\u001b[27A\u001b[2K\u001b[30A\u001b[2K\u001b[27A\u001b[2K\u001b[30A\u001b[2K\u001b[27A\u001b[2K\u001b[30A\u001b[2K\u001b[29A\u001b[2K\u001b[30A\u001b[2K\u001b[27A\u001b[2K\u001b[30A\u001b[2K\u001b[27A\u001b[2K\u001b[37A\u001b[2K\u001b[30A\u001b[2K\u001b[37A\u001b[2K\u001b[27A\u001b[2K\u001b[37A\u001b[2K\u001b[30A\u001b[2K\u001b[37A\u001b[2K\u001b[30A\u001b[2K\u001b[27A\u001b[2K\u001b[30A\u001b[2K\u001b[29A\u001b[2K\u001b[30A\u001b[2K\u001b[29A\u001b[2K\u001b[30A\u001b[2K\u001b[29A\u001b[2K\u001b[37A\u001b[2K\u001b[29A\u001b[2K\u001b[37A\u001b[2K\u001b[27A\u001b[2K\u001b[37A\u001b[2K\u001b[30A\u001b[2K\u001b[37A\u001b[2K\u001b[28A\u001b[2K\u001b[37A\u001b[2K\u001b[30A\u001b[2K\u001b[37A\u001b[2K\u001b[30A\u001b[2K\u001b[37A\u001b[2K\u001b[29A\u001b[2K\u001b[37A\u001b[2K\u001b[30A\u001b[2K\u001b[37A\u001b[2KPushing  918.3MB/4.758GB\u001b[27A\u001b[2K\u001b[27A\u001b[2K\u001b[37A\u001b[2K\u001b[27A\u001b[2K\u001b[37A\u001b[2K\u001b[29A\u001b[2K\u001b[37A\u001b[2K\u001b[27A\u001b[2K\u001b[37A\u001b[2K\u001b[29A\u001b[2K\u001b[37A\u001b[2K\u001b[29A\u001b[2K\u001b[37A\u001b[2K\u001b[30A\u001b[2K\u001b[27A\u001b[2K\u001b[37A\u001b[2K\u001b[27A\u001b[2K\u001b[37A\u001b[2K\u001b[27A\u001b[2K\u001b[37A\u001b[2K\u001b[27A\u001b[2K\u001b[37A\u001b[2K\u001b[30A\u001b[2K\u001b[37A\u001b[2K\u001b[30A\u001b[2K\u001b[37A\u001b[2K\u001b[30A\u001b[2K\u001b[28A\u001b[2K\u001b[30A\u001b[2K\u001b[28A\u001b[2K\u001b[27A\u001b[2K\u001b[37A\u001b[2K\u001b[29A\u001b[2K\u001b[27A\u001b[2K\u001b[29A\u001b[2K\u001b[27A\u001b[2K\u001b[29A\u001b[2K\u001b[27A\u001b[2K\u001b[29A\u001b[2K\u001b[27A\u001b[2K\u001b[29A\u001b[2K\u001b[30A\u001b[2K\u001b[29A\u001b[2K\u001b[30A\u001b[2K\u001b[28A\u001b[2K\u001b[30A\u001b[2K\u001b[37A\u001b[2K\u001b[29A\u001b[2K\u001b[30A\u001b[2K\u001b[29A\u001b[2K\u001b[30A\u001b[2K\u001b[29A\u001b[2K\u001b[30A\u001b[2K\u001b[29A\u001b[2K\u001b[30A\u001b[2K\u001b[29A\u001b[2K\u001b[28A\u001b[2K\u001b[37A\u001b[2K\u001b[29A\u001b[2K\u001b[37A\u001b[2K\u001b[29A\u001b[2K\u001b[37A\u001b[2K\u001b[29A\u001b[2K\u001b[30A\u001b[2K\u001b[29A\u001b[2K\u001b[30A\u001b[2K\u001b[29A\u001b[2K\u001b[37A\u001b[2K\u001b[29A\u001b[2K\u001b[30A\u001b[2K\u001b[29A\u001b[2K\u001b[30A\u001b[2K\u001b[29A\u001b[2K\u001b[30A\u001b[2K\u001b[37A\u001b[2K\u001b[30A\u001b[2K\u001b[37A\u001b[2K\u001b[30A\u001b[2K\u001b[37A\u001b[2K\u001b[30A\u001b[2K\u001b[29A\u001b[2K\u001b[30A\u001b[2K\u001b[29A\u001b[2K\u001b[28A\u001b[2K\u001b[29A\u001b[2K\u001b[27A\u001b[2K\u001b[30A\u001b[2K\u001b[37A\u001b[2K\u001b[29A\u001b[2K\u001b[27A\u001b[2K\u001b[30A\u001b[2K\u001b[27A\u001b[2K\u001b[30A\u001b[2K\u001b[29A\u001b[2K\u001b[29A\u001b[2K\u001b[28A\u001b[2K\u001b[27A\u001b[2K\u001b[28A\u001b[2K\u001b[30A\u001b[2K\u001b[28A\u001b[2K\u001b[27A\u001b[2K\u001b[37A\u001b[2K\u001b[27A\u001b[2K\u001b[28A\u001b[2K\u001b[29A\u001b[2K\u001b[37A\u001b[2K\u001b[29A\u001b[2K\u001b[29A\u001b[2K\u001b[28A\u001b[2K\u001b[29A\u001b[2K\u001b[27A\u001b[2K\u001b[26A\u001b[2K\u001b[37A\u001b[2K\u001b[26A\u001b[2K\u001b[29A\u001b[2K\u001b[28A\u001b[2K\u001b[29A\u001b[2K\u001b[28A\u001b[2K\u001b[29A\u001b[2K\u001b[27A\u001b[2K\u001b[29A\u001b[2K\u001b[27A\u001b[2K\u001b[29A\u001b[2K\u001b[27A\u001b[2K\u001b[29A\u001b[2K\u001b[27A\u001b[2K\u001b[29A\u001b[2K\u001b[29A\u001b[2K\u001b[26A\u001b[2K\u001b[29A\u001b[2K\u001b[26A\u001b[2K\u001b[29A\u001b[2K\u001b[26A\u001b[2K\u001b[29A\u001b[2K\u001b[28A\u001b[2K\u001b[29A\u001b[2K\u001b[28A\u001b[2K\u001b[29A\u001b[2K\u001b[27A\u001b[2K\u001b[37A\u001b[2K\u001b[27A\u001b[2K\u001b[27A\u001b[2K\u001b[29A\u001b[2K\u001b[37A\u001b[2K\u001b[29A\u001b[2K\u001b[27A\u001b[2K\u001b[37A\u001b[2K\u001b[27A\u001b[2K\u001b[29A\u001b[2K\u001b[27A\u001b[2K\u001b[26A\u001b[2K\u001b[28A\u001b[2K\u001b[26A\u001b[2K\u001b[28A\u001b[2K\u001b[37A\u001b[2K\u001b[26A\u001b[2K\u001b[37A\u001b[2K\u001b[26A\u001b[2K\u001b[29A\u001b[2K\u001b[26A\u001b[2K\u001b[27A\u001b[2K\u001b[26A\u001b[2K\u001b[27A\u001b[2K\u001b[26A\u001b[2K\u001b[27A\u001b[2K\u001b[26A\u001b[2K\u001b[27A\u001b[2K\u001b[29A\u001b[2K\u001b[37A\u001b[2K\u001b[29A\u001b[2K\u001b[27A\u001b[2K\u001b[29A\u001b[2K\u001b[27A\u001b[2K\u001b[29A\u001b[2K\u001b[27A\u001b[2K\u001b[29A\u001b[2K\u001b[37A\u001b[2K\u001b[27A\u001b[2K\u001b[28A\u001b[2K\u001b[29A\u001b[2K\u001b[28A\u001b[2K\u001b[27A\u001b[2K\u001b[37A\u001b[2K\u001b[27A\u001b[2K\u001b[28A\u001b[2K\u001b[29A\u001b[2K\u001b[28A\u001b[2K\u001b[27A\u001b[2K\u001b[28A\u001b[2K\u001b[29A\u001b[2K\u001b[28A\u001b[2K\u001b[27A\u001b[2K\u001b[37A\u001b[2K\u001b[27A\u001b[2K\u001b[28A\u001b[2K\u001b[27A\u001b[2K\u001b[26A\u001b[2K\u001b[27A\u001b[2K\u001b[37A\u001b[2K\u001b[28A\u001b[2K\u001b[26A\u001b[2K\u001b[28A\u001b[2K\u001b[26A\u001b[2K\u001b[28A\u001b[2K\u001b[26A\u001b[2K\u001b[27A\u001b[2K\u001b[37A\u001b[2K\u001b[27A\u001b[2K\u001b[29A\u001b[2K\u001b[37A\u001b[2K\u001b[29A\u001b[2K\u001b[27A\u001b[2K\u001b[37A\u001b[2K\u001b[27A\u001b[2K\u001b[28A\u001b[2K\u001b[37A\u001b[2K\u001b[28A\u001b[2K\u001b[37A\u001b[2K\u001b[28A\u001b[2K\u001b[26A\u001b[2K\u001b[37A\u001b[2K\u001b[26A\u001b[2K\u001b[37A\u001b[2K\u001b[27A\u001b[2K\u001b[37A\u001b[2K\u001b[27A\u001b[2K\u001b[28A\u001b[2K\u001b[27A\u001b[2K\u001b[28A\u001b[2K\u001b[26A\u001b[2K\u001b[28A\u001b[2K\u001b[26A\u001b[2K\u001b[28A\u001b[2K\u001b[26A\u001b[2K\u001b[37A\u001b[2K\u001b[27A\u001b[2K\u001b[28A\u001b[2K\u001b[28A\u001b[2K\u001b[37A\u001b[2K\u001b[28A\u001b[2K\u001b[37A\u001b[2K\u001b[26A\u001b[2K\u001b[37A\u001b[2K\u001b[26A\u001b[2K\u001b[29A\u001b[2K\u001b[26A\u001b[2K\u001b[29A\u001b[2K\u001b[37A\u001b[2K\u001b[27A\u001b[2K\u001b[26A\u001b[2K\u001b[37A\u001b[2K\u001b[28A\u001b[2K\u001b[29A\u001b[2K\u001b[27A\u001b[2K\u001b[29A\u001b[2K\u001b[27A\u001b[2K\u001b[29A\u001b[2K\u001b[26A\u001b[2K\u001b[29A\u001b[2K\u001b[26A\u001b[2K\u001b[29A\u001b[2K\u001b[28A\u001b[2K\u001b[37A\u001b[2K\u001b[28A\u001b[2K\u001b[37A\u001b[2K\u001b[28A\u001b[2K\u001b[26A\u001b[2K\u001b[28A\u001b[2K\u001b[26A\u001b[2K\u001b[27A\u001b[2K\u001b[26A\u001b[2K\u001b[27A\u001b[2K\u001b[26A\u001b[2K\u001b[27A\u001b[2K\u001b[37A\u001b[2K\u001b[29A\u001b[2K\u001b[37A\u001b[2K\u001b[29A\u001b[2K\u001b[37A\u001b[2K\u001b[26A\u001b[2K\u001b[37A\u001b[2K\u001b[29A\u001b[2K\u001b[37A\u001b[2K\u001b[28A\u001b[2K\u001b[28A\u001b[2K\u001b[28A\u001b[2K\u001b[28A\u001b[2K\u001b[27A\u001b[2K\u001b[28A\u001b[2K\u001b[26A\u001b[2K\u001b[28A\u001b[2K\u001b[37A\u001b[2K\u001b[28A\u001b[2K\u001b[29A\u001b[2K\u001b[28A\u001b[2K\u001b[29A\u001b[2K\u001b[28A\u001b[2K\u001b[29A\u001b[2K\u001b[28A\u001b[2K\u001b[28A\u001b[2K\u001b[37A\u001b[2K\u001b[28A\u001b[2K\u001b[37A\u001b[2K\u001b[28A\u001b[2K\u001b[37A\u001b[2K\u001b[28A\u001b[2K\u001b[27A\u001b[2K\u001b[28A\u001b[2K\u001b[29A\u001b[2K\u001b[28A\u001b[2K\u001b[29A\u001b[2K\u001b[37A\u001b[2K\u001b[29A\u001b[2K\u001b[37A\u001b[2K\u001b[29A\u001b[2K\u001b[37A\u001b[2K\u001b[28A\u001b[2K\u001b[26A\u001b[2K\u001b[28A\u001b[2K\u001b[26A\u001b[2K\u001b[37A\u001b[2K\u001b[26A\u001b[2K\u001b[28A\u001b[2K\u001b[26A\u001b[2K\u001b[28A\u001b[2K\u001b[27A\u001b[2K\u001b[37A\u001b[2K\u001b[29A\u001b[2K\u001b[28A\u001b[2K\u001b[29A\u001b[2K\u001b[37A\u001b[2K\u001b[29A\u001b[2K\u001b[26A\u001b[2K\u001b[37A\u001b[2K\u001b[26A\u001b[2K\u001b[37A\u001b[2K\u001b[26A\u001b[2K\u001b[37A\u001b[2K\u001b[26A\u001b[2K\u001b[37A\u001b[2K\u001b[26A\u001b[2K\u001b[29A\u001b[2K\u001b[26A\u001b[2K\u001b[29A\u001b[2K\u001b[27A\u001b[2K\u001b[29A\u001b[2K\u001b[27A\u001b[2K\u001b[29A\u001b[2K\u001b[28A\u001b[2KPushing  270.7MB/1.927GBPushing  1.347GB/1.927GB\u001b[26A\u001b[2K\u001b[29A\u001b[2K\u001b[26A\u001b[2K\u001b[29A\u001b[2K\u001b[26A\u001b[2K\u001b[29A\u001b[2K\u001b[26A\u001b[2K\u001b[29A\u001b[2K\u001b[26A\u001b[2K\u001b[37A\u001b[2K\u001b[26A\u001b[2K\u001b[29A\u001b[2K\u001b[26A\u001b[2K\u001b[37A\u001b[2K\u001b[28A\u001b[2K\u001b[37A\u001b[2K\u001b[27A\u001b[2K\u001b[26A\u001b[2K\u001b[27A\u001b[2K\u001b[26A\u001b[2K\u001b[27A\u001b[2K\u001b[26A\u001b[2K\u001b[29A\u001b[2K\u001b[28A\u001b[2K\u001b[29A\u001b[2K\u001b[28A\u001b[2K\u001b[29A\u001b[2K\u001b[28A\u001b[2K\u001b[29A\u001b[2K\u001b[28A\u001b[2K\u001b[26A\u001b[2K\u001b[28A\u001b[2K\u001b[26A\u001b[2K\u001b[27A\u001b[2K\u001b[26A\u001b[2K\u001b[37A\u001b[2K\u001b[28A\u001b[2K\u001b[27A\u001b[2K\u001b[28A\u001b[2K\u001b[27A\u001b[2K\u001b[28A\u001b[2K\u001b[27A\u001b[2K\u001b[28A\u001b[2K\u001b[27A\u001b[2K\u001b[28A\u001b[2K\u001b[27A\u001b[2K\u001b[28A\u001b[2K\u001b[26A\u001b[2K\u001b[28A\u001b[2K\u001b[26A\u001b[2K\u001b[37A\u001b[2K\u001b[26A\u001b[2K\u001b[37A\u001b[2K\u001b[28A\u001b[2K\u001b[29A\u001b[2K\u001b[28A\u001b[2K\u001b[29A\u001b[2K\u001b[28A\u001b[2K\u001b[29A\u001b[2K\u001b[28A\u001b[2K\u001b[29A\u001b[2K\u001b[28A\u001b[2K\u001b[29A\u001b[2K\u001b[28A\u001b[2K\u001b[29A\u001b[2K\u001b[37A\u001b[2K\u001b[29A\u001b[2K\u001b[37A\u001b[2K\u001b[29A\u001b[2K\u001b[37A\u001b[2K\u001b[29A\u001b[2K\u001b[37A\u001b[2K\u001b[26A\u001b[2K\u001b[27A\u001b[2K\u001b[26A\u001b[2K\u001b[27A\u001b[2K\u001b[37A\u001b[2K\u001b[27A\u001b[2K\u001b[37A\u001b[2K\u001b[27A\u001b[2K\u001b[28A\u001b[2K\u001b[29A\u001b[2K\u001b[28A\u001b[2K\u001b[29A\u001b[2K\u001b[28A\u001b[2K\u001b[29A\u001b[2K\u001b[28A\u001b[2K\u001b[27A\u001b[2K\u001b[29A\u001b[2K\u001b[37A\u001b[2K\u001b[29A\u001b[2K\u001b[37A\u001b[2K\u001b[27A\u001b[2K\u001b[37A\u001b[2K\u001b[27A\u001b[2K\u001b[29A\u001b[2K\u001b[27A\u001b[2K\u001b[29A\u001b[2K\u001b[27A\u001b[2K\u001b[29A\u001b[2K\u001b[27A\u001b[2K\u001b[29A\u001b[2K\u001b[27A\u001b[2K\u001b[26A\u001b[2K\u001b[37A\u001b[2K\u001b[29A\u001b[2K\u001b[37A\u001b[2K\u001b[28A\u001b[2K\u001b[37A\u001b[2K\u001b[28A\u001b[2K\u001b[37A\u001b[2K\u001b[28A\u001b[2K\u001b[37A\u001b[2K\u001b[28A\u001b[2K\u001b[37A\u001b[2K\u001b[28A\u001b[2K\u001b[37A\u001b[2K\u001b[28A\u001b[2K\u001b[37A\u001b[2K\u001b[27A\u001b[2K\u001b[26A\u001b[2K\u001b[27A\u001b[2K\u001b[29A\u001b[2K\u001b[37A\u001b[2K\u001b[26A\u001b[2K\u001b[27A\u001b[2K\u001b[28A\u001b[2K\u001b[27A\u001b[2K\u001b[28A\u001b[2K\u001b[29A\u001b[2K\u001b[37A\u001b[2K\u001b[29A\u001b[2K\u001b[27A\u001b[2K\u001b[26A\u001b[2K\u001b[27A\u001b[2K\u001b[26A\u001b[2K\u001b[27A\u001b[2K\u001b[26A\u001b[2K\u001b[29A\u001b[2K\u001b[37A\u001b[2K\u001b[29A\u001b[2K\u001b[27A\u001b[2K\u001b[29A\u001b[2K\u001b[27A\u001b[2K\u001b[29A\u001b[2K\u001b[27A\u001b[2K\u001b[29A\u001b[2K\u001b[27A\u001b[2K\u001b[29A\u001b[2K\u001b[27A\u001b[2K\u001b[26A\u001b[2K\u001b[27A\u001b[2K\u001b[26A\u001b[2K\u001b[27A\u001b[2K\u001b[27A\u001b[2K\u001b[26A\u001b[2K\u001b[27A\u001b[2K\u001b[27A\u001b[2K\u001b[27A\u001b[2K\u001b[28A\u001b[2K\u001b[27A\u001b[2K\u001b[27A\u001b[2K\u001b[27A\u001b[2K\u001b[27A\u001b[2K\u001b[37A\u001b[2K\u001b[27A\u001b[2K\u001b[26A\u001b[2K\u001b[27A\u001b[2K\u001b[29A\u001b[2K\u001b[28A\u001b[2K\u001b[26A\u001b[2K\u001b[29A\u001b[2K\u001b[28A\u001b[2K\u001b[29A\u001b[2K\u001b[28A\u001b[2K\u001b[26A\u001b[2K\u001b[28A\u001b[2K\u001b[26A\u001b[2K\u001b[28A\u001b[2K\u001b[37A\u001b[2K\u001b[29A\u001b[2K\u001b[28A\u001b[2K\u001b[29A\u001b[2K\u001b[28A\u001b[2K\u001b[27A\u001b[2K\u001b[28A\u001b[2K\u001b[26A\u001b[2K\u001b[28A\u001b[2K\u001b[37A\u001b[2K\u001b[29A\u001b[2K\u001b[37A\u001b[2K\u001b[29A\u001b[2K\u001b[37A\u001b[2K\u001b[27A\u001b[2K\u001b[37A\u001b[2K\u001b[27A\u001b[2K\u001b[29A\u001b[2K\u001b[27A\u001b[2K\u001b[27A\u001b[2K\u001b[28A\u001b[2K\u001b[27A\u001b[2K\u001b[29A\u001b[2K\u001b[27A\u001b[2K\u001b[29A\u001b[2K\u001b[27A\u001b[2K\u001b[29A\u001b[2K\u001b[27A\u001b[2K\u001b[37A\u001b[2K\u001b[29A\u001b[2K\u001b[37A\u001b[2K\u001b[29A\u001b[2K\u001b[26A\u001b[2K\u001b[29A\u001b[2K\u001b[26A\u001b[2K\u001b[27A\u001b[2K\u001b[27A\u001b[2K\u001b[28A\u001b[2K\u001b[27A\u001b[2K\u001b[28A\u001b[2K\u001b[37A\u001b[2K\u001b[29A\u001b[2K\u001b[37A\u001b[2K\u001b[28A\u001b[2K\u001b[37A\u001b[2K\u001b[28A\u001b[2K\u001b[29A\u001b[2K\u001b[27A\u001b[2K\u001b[29A\u001b[2K\u001b[27A\u001b[2K\u001b[29A\u001b[2K\u001b[27A\u001b[2K\u001b[29A\u001b[2K\u001b[37A\u001b[2K\u001b[26A\u001b[2K\u001b[37A\u001b[2K\u001b[26A\u001b[2K\u001b[37A\u001b[2K\u001b[28A\u001b[2K\u001b[37A\u001b[2K\u001b[28A\u001b[2K\u001b[29A\u001b[2K\u001b[28A\u001b[2K\u001b[27A\u001b[2K\u001b[28A\u001b[2K\u001b[27A\u001b[2K\u001b[29A\u001b[2K\u001b[27A\u001b[2K\u001b[29A\u001b[2K\u001b[27A\u001b[2K\u001b[29A\u001b[2K\u001b[26A\u001b[2K\u001b[29A\u001b[2K\u001b[27A\u001b[2K\u001b[29A\u001b[2K\u001b[27A\u001b[2K\u001b[37A\u001b[2K\u001b[28A\u001b[2K\u001b[37A\u001b[2K\u001b[28A\u001b[2K\u001b[37A\u001b[2K\u001b[28A\u001b[2K\u001b[26A\u001b[2K\u001b[29A\u001b[2K\u001b[26A\u001b[2K\u001b[28A\u001b[2K\u001b[37A\u001b[2K\u001b[28A\u001b[2K\u001b[29A\u001b[2K\u001b[28A\u001b[2K\u001b[29A\u001b[2K\u001b[26A\u001b[2K\u001b[27A\u001b[2K\u001b[37A\u001b[2K\u001b[27A\u001b[2K\u001b[37A\u001b[2K\u001b[27A\u001b[2K\u001b[37A\u001b[2K\u001b[26A\u001b[2K\u001b[29A\u001b[2K\u001b[26A\u001b[2K\u001b[27A\u001b[2K\u001b[28A\u001b[2K\u001b[27A\u001b[2K\u001b[28A\u001b[2K\u001b[27A\u001b[2K\u001b[28A\u001b[2K\u001b[27A\u001b[2K\u001b[28A\u001b[2K\u001b[27A\u001b[2K\u001b[28A\u001b[2K\u001b[27A\u001b[2K\u001b[28A\u001b[2K\u001b[27A\u001b[2KPushing  1.583GB/4.758GB\u001b[26A\u001b[2K\u001b[37A\u001b[2K\u001b[29A\u001b[2K\u001b[37A\u001b[2K\u001b[29A\u001b[2K\u001b[28A\u001b[2K\u001b[27A\u001b[2K\u001b[37A\u001b[2K\u001b[27A\u001b[2K\u001b[29A\u001b[2K\u001b[27A\u001b[2K\u001b[29A\u001b[2K\u001b[27A\u001b[2K\u001b[29A\u001b[2K\u001b[37A\u001b[2K\u001b[29A\u001b[2K\u001b[37A\u001b[2K\u001b[28A\u001b[2K\u001b[29A\u001b[2K\u001b[28A\u001b[2K\u001b[28A\u001b[2K\u001b[26A\u001b[2K\u001b[28A\u001b[2K\u001b[29A\u001b[2K\u001b[37A\u001b[2K\u001b[29A\u001b[2K\u001b[37A\u001b[2K\u001b[29A\u001b[2K\u001b[37A\u001b[2K\u001b[29A\u001b[2K\u001b[26A\u001b[2K\u001b[29A\u001b[2K\u001b[26A\u001b[2KPushing  1.695GB/1.815GB\u001b[29A\u001b[2K\u001b[28A\u001b[2K\u001b[29A\u001b[2K\u001b[28A\u001b[2K\u001b[29A\u001b[2K\u001b[28A\u001b[2K\u001b[26A\u001b[2K\u001b[29A\u001b[2K\u001b[26A\u001b[2K\u001b[26A\u001b[2K\u001b[27A\u001b[2K\u001b[26A\u001b[2K\u001b[27A\u001b[2K\u001b[26A\u001b[2K\u001b[37A\u001b[2K\u001b[28A\u001b[2K\u001b[37A\u001b[2K\u001b[29A\u001b[2K\u001b[28A\u001b[2K\u001b[29A\u001b[2K\u001b[28A\u001b[2K\u001b[29A\u001b[2K\u001b[28A\u001b[2K\u001b[26A\u001b[2K\u001b[28A\u001b[2K\u001b[26A\u001b[2K\u001b[29A\u001b[2K\u001b[27A\u001b[2K\u001b[29A\u001b[2K\u001b[27A\u001b[2K\u001b[28A\u001b[2K\u001b[27A\u001b[2K\u001b[27A\u001b[2K\u001b[29A\u001b[2K\u001b[27A\u001b[2K\u001b[29A\u001b[2K\u001b[27A\u001b[2K\u001b[29A\u001b[2K\u001b[27A\u001b[2K\u001b[29A\u001b[2K\u001b[26A\u001b[2K\u001b[37A\u001b[2K\u001b[26A\u001b[2K\u001b[28A\u001b[2K\u001b[29A\u001b[2K\u001b[27A\u001b[2K\u001b[29A\u001b[2K\u001b[27A\u001b[2K\u001b[26A\u001b[2K\u001b[27A\u001b[2K\u001b[26A\u001b[2K\u001b[26A\u001b[2K\u001b[29A\u001b[2K\u001b[27A\u001b[2K\u001b[28A\u001b[2K\u001b[27A\u001b[2K\u001b[26A\u001b[2K\u001b[27A\u001b[2K\u001b[26A\u001b[2K\u001b[27A\u001b[2K\u001b[26A\u001b[2K\u001b[37A\u001b[2K\u001b[26A\u001b[2K\u001b[29A\u001b[2K\u001b[26A\u001b[2K\u001b[29A\u001b[2K\u001b[26A\u001b[2K\u001b[37A\u001b[2K\u001b[26A\u001b[2K\u001b[37A\u001b[2K\u001b[29A\u001b[2K\u001b[37A\u001b[2K\u001b[27A\u001b[2K\u001b[37A\u001b[2K\u001b[29A\u001b[2K\u001b[37A\u001b[2K\u001b[27A\u001b[2K\u001b[29A\u001b[2K\u001b[26A\u001b[2K\u001b[28A\u001b[2K\u001b[37A\u001b[2K\u001b[27A\u001b[2K\u001b[37A\u001b[2K\u001b[27A\u001b[2K\u001b[29A\u001b[2K\u001b[27A\u001b[2K\u001b[29A\u001b[2K\u001b[26A\u001b[2K\u001b[28A\u001b[2K\u001b[26A\u001b[2K\u001b[28A\u001b[2K\u001b[37A\u001b[2K\u001b[28A\u001b[2K\u001b[37A\u001b[2K\u001b[28A\u001b[2K\u001b[37A\u001b[2K\u001b[27A\u001b[2K\u001b[37A\u001b[2K\u001b[27A\u001b[2K\u001b[37A\u001b[2K\u001b[27A\u001b[2K\u001b[37A\u001b[2K\u001b[27A\u001b[2KPushing  1.823GB/1.968GB\u001b[27A\u001b[2K\u001b[29A\u001b[2K\u001b[37A\u001b[2K\u001b[29A\u001b[2K\u001b[37A\u001b[2K\u001b[29A\u001b[2K\u001b[28A\u001b[2K\u001b[29A\u001b[2K\u001b[37A\u001b[2K\u001b[29A\u001b[2K\u001b[26A\u001b[2K\u001b[29A\u001b[2K\u001b[29A\u001b[2K\u001b[29A\u001b[2K\u001b[25A\u001b[2K\u001b[37A\u001b[2K\u001b[25A\u001b[2K\u001b[29A\u001b[2K\u001b[25A\u001b[2K\u001b[25A\u001b[2K\u001b[37A\u001b[2K\u001b[25A\u001b[2K\u001b[26A\u001b[2K\u001b[25A\u001b[2K\u001b[26A\u001b[2K\u001b[25A\u001b[2K\u001b[26A\u001b[2K\u001b[28A\u001b[2K\u001b[26A\u001b[2K\u001b[25A\u001b[2K\u001b[29A\u001b[2K\u001b[25A\u001b[2K\u001b[29A\u001b[2K\u001b[28A\u001b[2K\u001b[37A\u001b[2K\u001b[28A\u001b[2K\u001b[37A\u001b[2K\u001b[28A\u001b[2K\u001b[26A\u001b[2K\u001b[29A\u001b[2K\u001b[26A\u001b[2K\u001b[29A\u001b[2K\u001b[26A\u001b[2K\u001b[29A\u001b[2K\u001b[25A\u001b[2K\u001b[37A\u001b[2K\u001b[25A\u001b[2K\u001b[26A\u001b[2K\u001b[25A\u001b[2K\u001b[26A\u001b[2K\u001b[26A\u001b[2K\u001b[37A\u001b[2K\u001b[26A\u001b[2K\u001b[37A\u001b[2K\u001b[26A\u001b[2K\u001b[37A\u001b[2K\u001b[29A\u001b[2K\u001b[37A\u001b[2K\u001b[25A\u001b[2K\u001b[37A\u001b[2K\u001b[26A\u001b[2K\u001b[37A\u001b[2K\u001b[26A\u001b[2K\u001b[28A\u001b[2K\u001b[26A\u001b[2K\u001b[28A\u001b[2K\u001b[26A\u001b[2K\u001b[28A\u001b[2K\u001b[26A\u001b[2K\u001b[28A\u001b[2K\u001b[37A\u001b[2K\u001b[26A\u001b[2K\u001b[37A\u001b[2K\u001b[26A\u001b[2K\u001b[37A\u001b[2K\u001b[26A\u001b[2K\u001b[28A\u001b[2K\u001b[26A\u001b[2K\u001b[24A\u001b[2K\u001b[37A\u001b[2K\u001b[24A\u001b[2K\u001b[25A\u001b[2K\u001b[24A\u001b[2K\u001b[25A\u001b[2K\u001b[26A\u001b[2K\u001b[25A\u001b[2K\u001b[28A\u001b[2K\u001b[37A\u001b[2K\u001b[28A\u001b[2K\u001b[37A\u001b[2K\u001b[28A\u001b[2K\u001b[37A\u001b[2K\u001b[28A\u001b[2K\u001b[25A\u001b[2K\u001b[28A\u001b[2K\u001b[25A\u001b[2K\u001b[26A\u001b[2K\u001b[37A\u001b[2K\u001b[26A\u001b[2K\u001b[25A\u001b[2K\u001b[26A\u001b[2K\u001b[25A\u001b[2KPushing  31.72MB/1.828GB\u001b[25A\u001b[2K\u001b[24A\u001b[2K\u001b[28A\u001b[2K\u001b[24A\u001b[2K\u001b[28A\u001b[2K\u001b[24A\u001b[2K\u001b[28A\u001b[2K\u001b[24A\u001b[2K\u001b[26A\u001b[2K\u001b[24A\u001b[2K\u001b[26A\u001b[2K\u001b[25A\u001b[2K\u001b[26A\u001b[2K\u001b[28A\u001b[2K\u001b[26A\u001b[2K\u001b[37A\u001b[2K\u001b[26A\u001b[2K\u001b[37A\u001b[2K\u001b[26A\u001b[2K\u001b[37A\u001b[2K\u001b[24A\u001b[2K\u001b[26A\u001b[2K\u001b[25A\u001b[2K\u001b[26A\u001b[2K\u001b[24A\u001b[2K\u001b[26A\u001b[2K\u001b[25A\u001b[2K\u001b[26A\u001b[2K\u001b[37A\u001b[2K\u001b[24A\u001b[2K\u001b[37A\u001b[2K\u001b[24A\u001b[2K\u001b[26A\u001b[2K\u001b[23A\u001b[2K\u001b[37A\u001b[2K\u001b[25A\u001b[2K\u001b[37A\u001b[2K\u001b[26A\u001b[2K\u001b[24A\u001b[2K\u001b[26A\u001b[2K\u001b[22A\u001b[2K\u001b[37A\u001b[2K\u001b[25A\u001b[2K\u001b[37A\u001b[2K\u001b[25A\u001b[2K\u001b[37A\u001b[2K\u001b[22A\u001b[2K\u001b[37A\u001b[2K\u001b[26A\u001b[2K\u001b[25A\u001b[2K\u001b[26A\u001b[2K\u001b[25A\u001b[2K\u001b[26A\u001b[2K\u001b[21A\u001b[2K\u001b[26A\u001b[2K\u001b[24A\u001b[2K\u001b[26A\u001b[2K\u001b[25A\u001b[2K\u001b[20A\u001b[2K\u001b[25A\u001b[2K\u001b[26A\u001b[2K\u001b[25A\u001b[2K\u001b[26A\u001b[2K\u001b[20A\u001b[2K\u001b[37A\u001b[2K\u001b[26A\u001b[2K\u001b[25A\u001b[2K\u001b[26A\u001b[2K\u001b[25A\u001b[2K\u001b[26A\u001b[2K\u001b[25A\u001b[2K\u001b[37A\u001b[2K\u001b[25A\u001b[2K\u001b[37A\u001b[2K\u001b[25A\u001b[2K\u001b[18A\u001b[2K\u001b[26A\u001b[2K\u001b[25A\u001b[2K\u001b[24A\u001b[2K\u001b[25A\u001b[2K\u001b[24A\u001b[2K\u001b[26A\u001b[2K\u001b[37A\u001b[2KPushing  986.5MB/1.927GB\u001b[37A\u001b[2KPushing  988.7MB/1.927GB\u001b[14A\u001b[2K\u001b[24A\u001b[2K\u001b[13A\u001b[2K\u001b[37A\u001b[2K\u001b[12A\u001b[2K\u001b[25A\u001b[2K\u001b[26A\u001b[2K\u001b[25A\u001b[2K\u001b[24A\u001b[2K\u001b[37A\u001b[2K\u001b[24A\u001b[2K\u001b[37A\u001b[2K\u001b[25A\u001b[2K\u001b[26A\u001b[2K\u001b[25A\u001b[2K\u001b[24A\u001b[2K\u001b[25A\u001b[2K\u001b[24A\u001b[2K\u001b[25A\u001b[2K\u001b[6A\u001b[2K\u001b[26A\u001b[2K\u001b[5A\u001b[2K\u001b[24A\u001b[2K\u001b[37A\u001b[2K\u001b[4A\u001b[2K\u001b[37A\u001b[2K\u001b[24A\u001b[2K\u001b[26A\u001b[2K\u001b[25A\u001b[2K\u001b[24A\u001b[2K\u001b[25A\u001b[2K\u001b[24A\u001b[2K\u001b[25A\u001b[2K\u001b[37A\u001b[2K\u001b[26A\u001b[2K\u001b[25A\u001b[2K\u001b[26A\u001b[2K\u001b[25A\u001b[2K\u001b[26A\u001b[2K\u001b[25A\u001b[2K\u001b[26A\u001b[2K\u001b[25A\u001b[2K\u001b[37A\u001b[2K\u001b[24A\u001b[2K\u001b[37A\u001b[2K\u001b[26A\u001b[2K\u001b[25A\u001b[2K\u001b[37A\u001b[2K\u001b[25A\u001b[2K\u001b[37A\u001b[2K\u001b[25A\u001b[2K\u001b[37A\u001b[2KPushing  192.2MB/1.828GB\u001b[25A\u001b[2K\u001b[24A\u001b[2K\u001b[37A\u001b[2K\u001b[26A\u001b[2K\u001b[37A\u001b[2K\u001b[26A\u001b[2K\u001b[24A\u001b[2K\u001b[37A\u001b[2K\u001b[26A\u001b[2K\u001b[37A\u001b[2K\u001b[26A\u001b[2K\u001b[37A\u001b[2K\u001b[25A\u001b[2K\u001b[24A\u001b[2K\u001b[37A\u001b[2K\u001b[24A\u001b[2K\u001b[37A\u001b[2K\u001b[24A\u001b[2K\u001b[37A\u001b[2K\u001b[24A\u001b[2K\u001b[37A\u001b[2K\u001b[25A\u001b[2K\u001b[24A\u001b[2K\u001b[25A\u001b[2K\u001b[24A\u001b[2K\u001b[37A\u001b[2K\u001b[26A\u001b[2K\u001b[37A\u001b[2K\u001b[25A\u001b[2K\u001b[24A\u001b[2K\u001b[25A\u001b[2K\u001b[24A\u001b[2K\u001b[25A\u001b[2K\u001b[24A\u001b[2K\u001b[25A\u001b[2K\u001b[37A\u001b[2K\u001b[25A\u001b[2K\u001b[26A\u001b[2K\u001b[24A\u001b[2K\u001b[25A\u001b[2K\u001b[37A\u001b[2K\u001b[24A\u001b[2K\u001b[37A\u001b[2K\u001b[25A\u001b[2K\u001b[26A\u001b[2K\u001b[25A\u001b[2K\u001b[26A\u001b[2K\u001b[37A\u001b[2K\u001b[24A\u001b[2K\u001b[37A\u001b[2K\u001b[25A\u001b[2K\u001b[26A\u001b[2K\u001b[25A\u001b[2K\u001b[24A\u001b[2K\u001b[25A\u001b[2K\u001b[26A\u001b[2K\u001b[24A\u001b[2K\u001b[37A\u001b[2K\u001b[25A\u001b[2K\u001b[26A\u001b[2K\u001b[25A\u001b[2K\u001b[26A\u001b[2K\u001b[25A\u001b[2K\u001b[24A\u001b[2K\u001b[37A\u001b[2K\u001b[25A\u001b[2K\u001b[37A\u001b[2K\u001b[25A\u001b[2K\u001b[26A\u001b[2K\u001b[25A\u001b[2K\u001b[24A\u001b[2K\u001b[37A\u001b[2K\u001b[24A\u001b[2K\u001b[37A\u001b[2K\u001b[24A\u001b[2K\u001b[26A\u001b[2K\u001b[25A\u001b[2K\u001b[37A\u001b[2K\u001b[25A\u001b[2K\u001b[26A\u001b[2K\u001b[37A\u001b[2K\u001b[26A\u001b[2K\u001b[37A\u001b[2K\u001b[25A\u001b[2K\u001b[26A\u001b[2K\u001b[25A\u001b[2K\u001b[26A\u001b[2K\u001b[37A\u001b[2K\u001b[26A\u001b[2K\u001b[24A\u001b[2K\u001b[37A\u001b[2K\u001b[25A\u001b[2K\u001b[37A\u001b[2K\u001b[24A\u001b[2K\u001b[37A\u001b[2K\u001b[26A\u001b[2K\u001b[37A\u001b[2K\u001b[26A\u001b[2K\u001b[37A\u001b[2K\u001b[25A\u001b[2K\u001b[37A\u001b[2K\u001b[24A\u001b[2K\u001b[37A\u001b[2K\u001b[26A\u001b[2K\u001b[25A\u001b[2K\u001b[26A\u001b[2K\u001b[25A\u001b[2KPushing  2.154GB/4.758GB\u001b[25A\u001b[2K\u001b[37A\u001b[2K\u001b[25A\u001b[2K\u001b[37A\u001b[2K\u001b[24A\u001b[2K\u001b[25A\u001b[2K\u001b[24A\u001b[2K\u001b[25A\u001b[2K\u001b[24A\u001b[2K\u001b[25A\u001b[2KPushing  2.169GB/4.758GB\u001b[37A\u001b[2K\u001b[24A\u001b[2K\u001b[37A\u001b[2K\u001b[24A\u001b[2K\u001b[37A\u001b[2K\u001b[24A\u001b[2K\u001b[26A\u001b[2K\u001b[25A\u001b[2K\u001b[26A\u001b[2K\u001b[25A\u001b[2K\u001b[24A\u001b[2K\u001b[25A\u001b[2K\u001b[24A\u001b[2K\u001b[37A\u001b[2K\u001b[25A\u001b[2K\u001b[26A\u001b[2K\u001b[25A\u001b[2K\u001b[26A\u001b[2K\u001b[25A\u001b[2K\u001b[24A\u001b[2K\u001b[37A\u001b[2K\u001b[24A\u001b[2K\u001b[26A\u001b[2K\u001b[24A\u001b[2K\u001b[26A\u001b[2K\u001b[25A\u001b[2K\u001b[26A\u001b[2K\u001b[37A\u001b[2K\u001b[24A\u001b[2K\u001b[37A\u001b[2K\u001b[24A\u001b[2K\u001b[37A\u001b[2K\u001b[25A\u001b[2K\u001b[37A\u001b[2K\u001b[24A\u001b[2K\u001b[37A\u001b[2K\u001b[24A\u001b[2K\u001b[37A\u001b[2K\u001b[24A\u001b[2K\u001b[37A\u001b[2K\u001b[24A\u001b[2K\u001b[37A\u001b[2K\u001b[24A\u001b[2K\u001b[25A\u001b[2K\u001b[26A\u001b[2K\u001b[25A\u001b[2K\u001b[37A\u001b[2K\u001b[24A\u001b[2K\u001b[37A\u001b[2K\u001b[26A\u001b[2K\u001b[37A\u001b[2K\u001b[25A\u001b[2K\u001b[37A\u001b[2K\u001b[24A\u001b[2K\u001b[37A\u001b[2K\u001b[37A\u001b[2K\u001b[25A\u001b[2K\u001b[37A\u001b[2K\u001b[26A\u001b[2K\u001b[37A\u001b[2K\u001b[26A\u001b[2K\u001b[25A\u001b[2K\u001b[37A\u001b[2K\u001b[24A\u001b[2K\u001b[37A\u001b[2K\u001b[26A\u001b[2K\u001b[37A\u001b[2K\u001b[26A\u001b[2K\u001b[25A\u001b[2K\u001b[26A\u001b[2K\u001b[37A\u001b[2K\u001b[26A\u001b[2K\u001b[37A\u001b[2K\u001b[24A\u001b[2K\u001b[25A\u001b[2K\u001b[24A\u001b[2K\u001b[25A\u001b[2K\u001b[24A\u001b[2K\u001b[26A\u001b[2K\u001b[24A\u001b[2K\u001b[26A\u001b[2K\u001b[25A\u001b[2K\u001b[24A\u001b[2K\u001b[25A\u001b[2K\u001b[24A\u001b[2K\u001b[26A\u001b[2K\u001b[37A\u001b[2K\u001b[26A\u001b[2K\u001b[25A\u001b[2K\u001b[24A\u001b[2K\u001b[25A\u001b[2K\u001b[24A\u001b[2K\u001b[26A\u001b[2K\u001b[24A\u001b[2K\u001b[26A\u001b[2K\u001b[37A\u001b[2K\u001b[24A\u001b[2K\u001b[37A\u001b[2K\u001b[24A\u001b[2K\u001b[37A\u001b[2K\u001b[24A\u001b[2K\u001b[26A\u001b[2K\u001b[25A\u001b[2K\u001b[24A\u001b[2K\u001b[25A\u001b[2K\u001b[26A\u001b[2K\u001b[25A\u001b[2K\u001b[26A\u001b[2K\u001b[25A\u001b[2K\u001b[26A\u001b[2K\u001b[25A\u001b[2K\u001b[26A\u001b[2K\u001b[24A\u001b[2K\u001b[26A\u001b[2K\u001b[24A\u001b[2K\u001b[26A\u001b[2K\u001b[24A\u001b[2KPushing    2.3GB/4.758GB\u001b[24A\u001b[2K\u001b[26A\u001b[2K\u001b[24A\u001b[2K\u001b[26A\u001b[2K\u001b[24A\u001b[2K\u001b[37A\u001b[2K\u001b[37A\u001b[2K\u001b[26A\u001b[2K\u001b[37A\u001b[2K\u001b[26A\u001b[2K\u001b[37A\u001b[2K\u001b[25A\u001b[2K\u001b[37A\u001b[2K\u001b[24A\u001b[2K\u001b[37A\u001b[2K\u001b[26A\u001b[2K\u001b[37A\u001b[2K\u001b[25A\u001b[2K\u001b[37A\u001b[2K\u001b[24A\u001b[2K\u001b[37A\u001b[2K\u001b[24A\u001b[2K\u001b[37A\u001b[2K\u001b[24A\u001b[2K\u001b[25A\u001b[2K\u001b[24A\u001b[2K\u001b[24A\u001b[2K\u001b[37A\u001b[2K\u001b[26A\u001b[2KPushing    596MB/1.968GB\u001b[26A\u001b[2K\u001b[26A\u001b[2K\u001b[26A\u001b[2K\u001b[25A\u001b[2K\u001b[37A\u001b[2K\u001b[26A\u001b[2K\u001b[37A\u001b[2K\u001b[37A\u001b[2K\u001b[24A\u001b[2K\u001b[37A\u001b[2K\u001b[26A\u001b[2K\u001b[37A\u001b[2K\u001b[25A\u001b[2K\u001b[37A\u001b[2K\u001b[25A\u001b[2K\u001b[26A\u001b[2K\u001b[25A\u001b[2K\u001b[26A\u001b[2K\u001b[25A\u001b[2K\u001b[26A\u001b[2K\u001b[37A\u001b[2K\u001b[25A\u001b[2K\u001b[26A\u001b[2K\u001b[25A\u001b[2K\u001b[26A\u001b[2K\u001b[37A\u001b[2K\u001b[25A\u001b[2K\u001b[37A\u001b[2K\u001b[25A\u001b[2K\u001b[37A\u001b[2K\u001b[25A\u001b[2K\u001b[26A\u001b[2K\u001b[25A\u001b[2K\u001b[26A\u001b[2K\u001b[37A\u001b[2K\u001b[25A\u001b[2K\u001b[24A\u001b[2K\u001b[25A\u001b[2K\u001b[26A\u001b[2K\u001b[25A\u001b[2K\u001b[26A\u001b[2K\u001b[25A\u001b[2K\u001b[37A\u001b[2K\u001b[26A\u001b[2K\u001b[37A\u001b[2K\u001b[26A\u001b[2K\u001b[24A\u001b[2K\u001b[26A\u001b[2K\u001b[26A\u001b[2K\u001b[26A\u001b[2K\u001b[24A\u001b[2K\u001b[26A\u001b[2K\u001b[25A\u001b[2K\u001b[26A\u001b[2K\u001b[26A\u001b[2K\u001b[37A\u001b[2K\u001b[26A\u001b[2K\u001b[25A\u001b[2K\u001b[26A\u001b[2K\u001b[37A\u001b[2K\u001b[26A\u001b[2K\u001b[37A\u001b[2K\u001b[26A\u001b[2K\u001b[24A\u001b[2K\u001b[26A\u001b[2K\u001b[37A\u001b[2K\u001b[26A\u001b[2K\u001b[37A\u001b[2K\u001b[26A\u001b[2K\u001b[24A\u001b[2K\u001b[26A\u001b[2K\u001b[26A\u001b[2K\u001b[37A\u001b[2K\u001b[26A\u001b[2K\u001b[24A\u001b[2K\u001b[26A\u001b[2K\u001b[25A\u001b[2K\u001b[26A\u001b[2K\u001b[26A\u001b[2K\u001b[37A\u001b[2K\u001b[26A\u001b[2K\u001b[24A\u001b[2K\u001b[26A\u001b[2K\u001b[25A\u001b[2K\u001b[37A\u001b[2K\u001b[26A\u001b[2K\u001b[37A\u001b[2K\u001b[26A\u001b[2K\u001b[24A\u001b[2K\u001b[26A\u001b[2K\u001b[25A\u001b[2K\u001b[26A\u001b[2K\u001b[26A\u001b[2K\u001b[25A\u001b[2K\u001b[26A\u001b[2K\u001b[37A\u001b[2K\u001b[26A\u001b[2K\u001b[26A\u001b[2K\u001b[24A\u001b[2K\u001b[26A\u001b[2K\u001b[25A\u001b[2K\u001b[26A\u001b[2K\u001b[26A\u001b[2K\u001b[24A\u001b[2K\u001b[37A\u001b[2K\u001b[25A\u001b[2K\u001b[26A\u001b[2K\u001b[25A\u001b[2K\u001b[37A\u001b[2K\u001b[24A\u001b[2K\u001b[37A\u001b[2K\u001b[25A\u001b[2K\u001b[37A\u001b[2K\u001b[26A\u001b[2K\u001b[37A\u001b[2K\u001b[24A\u001b[2K\u001b[37A\u001b[2K\u001b[25A\u001b[2K\u001b[37A\u001b[2K\u001b[26A\u001b[2K\u001b[37A\u001b[2K\u001b[24A\u001b[2K\u001b[37A\u001b[2K\u001b[25A\u001b[2K\u001b[37A\u001b[2K\u001b[26A\u001b[2K\u001b[37A\u001b[2K\u001b[26A\u001b[2K\u001b[37A\u001b[2K\u001b[26A\u001b[2K\u001b[37A\u001b[2K\u001b[26A\u001b[2K\u001b[25A\u001b[2K\u001b[24A\u001b[2K\u001b[25A\u001b[2K\u001b[24A\u001b[2K\u001b[26A\u001b[2K\u001b[37A\u001b[2K\u001b[26A\u001b[2K\u001b[37A\u001b[2K\u001b[26A\u001b[2K\u001b[37A\u001b[2K\u001b[25A\u001b[2K\u001b[37A\u001b[2K\u001b[24A\u001b[2K\u001b[37A\u001b[2K\u001b[25A\u001b[2K\u001b[37A\u001b[2K\u001b[25A\u001b[2K\u001b[37A\u001b[2K\u001b[25A\u001b[2K\u001b[37A\u001b[2K\u001b[25A\u001b[2K\u001b[37A\u001b[2K\u001b[25A\u001b[2K\u001b[26A\u001b[2K\u001b[25A\u001b[2K\u001b[26A\u001b[2K\u001b[24A\u001b[2K\u001b[25A\u001b[2K\u001b[26A\u001b[2K\u001b[25A\u001b[2K\u001b[26A\u001b[2K\u001b[37A\u001b[2K\u001b[26A\u001b[2K\u001b[24A\u001b[2K\u001b[25A\u001b[2K\u001b[26A\u001b[2K\u001b[25A\u001b[2K\u001b[26A\u001b[2K\u001b[37A\u001b[2K\u001b[26A\u001b[2K\u001b[24A\u001b[2K\u001b[25A\u001b[2K\u001b[26A\u001b[2K\u001b[25A\u001b[2K\u001b[26A\u001b[2K\u001b[37A\u001b[2K\u001b[26A\u001b[2K\u001b[24A\u001b[2K\u001b[25A\u001b[2K\u001b[26A\u001b[2K\u001b[37A\u001b[2K\u001b[26A\u001b[2K\u001b[37A\u001b[2K\u001b[26A\u001b[2K\u001b[24A\u001b[2K\u001b[25A\u001b[2K\u001b[26A\u001b[2K\u001b[25A\u001b[2K\u001b[24A\u001b[2K\u001b[25A\u001b[2K\u001b[24A\u001b[2K\u001b[26A\u001b[2K\u001b[25A\u001b[2K\u001b[37A\u001b[2K\u001b[25A\u001b[2K\u001b[24A\u001b[2K\u001b[25A\u001b[2K\u001b[24A\u001b[2K\u001b[26A\u001b[2K\u001b[25A\u001b[2K\u001b[26A\u001b[2K\u001b[25A\u001b[2K\u001b[26A\u001b[2K\u001b[37A\u001b[2K\u001b[24A\u001b[2K\u001b[26A\u001b[2K\u001b[25A\u001b[2K\u001b[26A\u001b[2K\u001b[25A\u001b[2K\u001b[24A\u001b[2K\u001b[37A\u001b[2K\u001b[24A\u001b[2K\u001b[26A\u001b[2K\u001b[25A\u001b[2K\u001b[26A\u001b[2K\u001b[25A\u001b[2K\u001b[24A\u001b[2K\u001b[25A\u001b[2K\u001b[24A\u001b[2K\u001b[25A\u001b[2K\u001b[37A\u001b[2K\u001b[25A\u001b[2K\u001b[37A\u001b[2K\u001b[25A\u001b[2K\u001b[24A\u001b[2K\u001b[37A\u001b[2K\u001b[24A\u001b[2K\u001b[26A\u001b[2K\u001b[25A\u001b[2K\u001b[24A\u001b[2K\u001b[25A\u001b[2K\u001b[24A\u001b[2K\u001b[25A\u001b[2K\u001b[24A\u001b[2K\u001b[37A\u001b[2K\u001b[24A\u001b[2K\u001b[26A\u001b[2K\u001b[25A\u001b[2K\u001b[24A\u001b[2K\u001b[25A\u001b[2K\u001b[24A\u001b[2K\u001b[26A\u001b[2K\u001b[24A\u001b[2K\u001b[26A\u001b[2K\u001b[25A\u001b[2K\u001b[24A\u001b[2K\u001b[25A\u001b[2K\u001b[24A\u001b[2K\u001b[26A\u001b[2K\u001b[24A\u001b[2K\u001b[37A\u001b[2K\u001b[25A\u001b[2K\u001b[24A\u001b[2K\u001b[25A\u001b[2K\u001b[24A\u001b[2K\u001b[37A\u001b[2K\u001b[24A\u001b[2K\u001b[37A\u001b[2K\u001b[25A\u001b[2K\u001b[24A\u001b[2K\u001b[25A\u001b[2K\u001b[37A\u001b[2K\u001b[26A\u001b[2K\u001b[37A\u001b[2K\u001b[24A\u001b[2K\u001b[25A\u001b[2K\u001b[37A\u001b[2K\u001b[25A\u001b[2K\u001b[37A\u001b[2K\u001b[26A\u001b[2K\u001b[37A\u001b[2K\u001b[26A\u001b[2K\u001b[25A\u001b[2K\u001b[24A\u001b[2K\u001b[25A\u001b[2K\u001b[24A\u001b[2K\u001b[26A\u001b[2K\u001b[37A\u001b[2K\u001b[26A\u001b[2K\u001b[25A\u001b[2K\u001b[24A\u001b[2K\u001b[25A\u001b[2K\u001b[37A\u001b[2K\u001b[26A\u001b[2K\u001b[37A\u001b[2K\u001b[26A\u001b[2K\u001b[25A\u001b[2K\u001b[24A\u001b[2K\u001b[25A\u001b[2K\u001b[24A\u001b[2K\u001b[26A\u001b[2K\u001b[24A\u001b[2K\u001b[26A\u001b[2K\u001b[25A\u001b[2K\u001b[26A\u001b[2K\u001b[25A\u001b[2K\u001b[24A\u001b[2K\u001b[37A\u001b[2K\u001b[25A\u001b[2K\u001b[26A\u001b[2K\u001b[25A\u001b[2K\u001b[26A\u001b[2K\u001b[25A\u001b[2K\u001b[26A\u001b[2K\u001b[25A\u001b[2K\u001b[24A\u001b[2K\u001b[37A\u001b[2K\u001b[25A\u001b[2K\u001b[37A\u001b[2K\u001b[25A\u001b[2K\u001b[26A\u001b[2K\u001b[25A\u001b[2K\u001b[24A\u001b[2K\u001b[24A\u001b[2K\u001b[25A\u001b[2K\u001b[26A\u001b[2K\u001b[24A\u001b[2K\u001b[25A\u001b[2K\u001b[24A\u001b[2K\u001b[25A\u001b[2K\u001b[24A\u001b[2K\u001b[25A\u001b[2K\u001b[37A\u001b[2K\u001b[25A\u001b[2K\u001b[37A\u001b[2K\u001b[24A\u001b[2K\u001b[37A\u001b[2K\u001b[24A\u001b[2K\u001b[37A\u001b[2K\u001b[26A\u001b[2K\u001b[37A\u001b[2K\u001b[26A\u001b[2K\u001b[24A\u001b[2K\u001b[26A\u001b[2K\u001b[24A\u001b[2K\u001b[26A\u001b[2K\u001b[24A\u001b[2K\u001b[26A\u001b[2K\u001b[24A\u001b[2K\u001b[25A\u001b[2K\u001b[26A\u001b[2K\u001b[25A\u001b[2K\u001b[26A\u001b[2K\u001b[25A\u001b[2K\u001b[37A\u001b[2K\u001b[26A\u001b[2K\u001b[37A\u001b[2K\u001b[26A\u001b[2K\u001b[37A\u001b[2K\u001b[25A\u001b[2K\u001b[37A\u001b[2K\u001b[25A\u001b[2K\u001b[37A\u001b[2K\u001b[24A\u001b[2K\u001b[25A\u001b[2K\u001b[24A\u001b[2K\u001b[37A\u001b[2K\u001b[24A\u001b[2K\u001b[37A\u001b[2K\u001b[25A\u001b[2K\u001b[24A\u001b[2K\u001b[25A\u001b[2K\u001b[37A\u001b[2K\u001b[25A\u001b[2K\u001b[37A\u001b[2K\u001b[25A\u001b[2K\u001b[24A\u001b[2K\u001b[25A\u001b[2K\u001b[26A\u001b[2K\u001b[24A\u001b[2K\u001b[26A\u001b[2K\u001b[37A\u001b[2K\u001b[25A\u001b[2K\u001b[24A\u001b[2K\u001b[25A\u001b[2K\u001b[26A\u001b[2K\u001b[25A\u001b[2K\u001b[25A\u001b[2K\u001b[37A\u001b[2K\u001b[25A\u001b[2K\u001b[26A\u001b[2K\u001b[25A\u001b[2K\u001b[37A\u001b[2K\u001b[26A\u001b[2K\u001b[25A\u001b[2K\u001b[37A\u001b[2K\u001b[37A\u001b[2K\u001b[26A\u001b[2K\u001b[37A\u001b[2K\u001b[24A\u001b[2K\u001b[37A\u001b[2K\u001b[24A\u001b[2K\u001b[37A\u001b[2K\u001b[24A\u001b[2K\u001b[26A\u001b[2K\u001b[25A\u001b[2K\u001b[26A\u001b[2K\u001b[25A\u001b[2K\u001b[24A\u001b[2K\u001b[25A\u001b[2K\u001b[24A\u001b[2K\u001b[37A\u001b[2K\u001b[25A\u001b[2K\u001b[26A\u001b[2K\u001b[25A\u001b[2K\u001b[24A\u001b[2K\u001b[37A\u001b[2KPushing  1.123GB/1.968GB\u001b[37A\u001b[2K\u001b[25A\u001b[2K\u001b[26A\u001b[2K\u001b[25A\u001b[2K\u001b[24A\u001b[2K\u001b[37A\u001b[2K\u001b[25A\u001b[2K\u001b[37A\u001b[2K\u001b[25A\u001b[2K\u001b[26A\u001b[2K\u001b[25A\u001b[2K\u001b[24A\u001b[2K\u001b[37A\u001b[2K\u001b[26A\u001b[2K\u001b[37A\u001b[2K\u001b[25A\u001b[2K\u001b[37A\u001b[2K\u001b[25A\u001b[2K\u001b[37A\u001b[2K\u001b[25A\u001b[2K\u001b[37A\u001b[2K\u001b[25A\u001b[2K\u001b[24A\u001b[2K\u001b[37A\u001b[2K\u001b[25A\u001b[2K\u001b[37A\u001b[2K\u001b[25A\u001b[2K\u001b[37A\u001b[2K\u001b[25A\u001b[2K\u001b[26A\u001b[2K\u001b[25A\u001b[2K\u001b[37A\u001b[2K\u001b[24A\u001b[2K\u001b[37A\u001b[2K\u001b[25A\u001b[2K\u001b[37A\u001b[2K\u001b[25A\u001b[2K\u001b[37A\u001b[2K\u001b[37A\u001b[2K\u001b[37A\u001b[2K\u001b[24A\u001b[2K\u001b[37A\u001b[2K\u001b[25A\u001b[2K\u001b[37A\u001b[2K\u001b[25A\u001b[2K\u001b[37A\u001b[2K\u001b[37A\u001b[2K\u001b[37A\u001b[2K\u001b[25A\u001b[2K\u001b[25A\u001b[2K\u001b[25A\u001b[2K\u001b[25A\u001b[2K\u001b[37A\u001b[2K\u001b[25A\u001b[2K\u001b[37A\u001b[2K\u001b[25A\u001b[2K\u001b[37A\u001b[2K\u001b[24A\u001b[2K\u001b[24A\u001b[2K\u001b[37A\u001b[2K\u001b[24A\u001b[2K\u001b[37A\u001b[2K\u001b[24A\u001b[2K\u001b[25A\u001b[2K\u001b[37A\u001b[2K\u001b[24A\u001b[2K\u001b[24A\u001b[2K\u001b[37A\u001b[2K\u001b[24A\u001b[2K\u001b[24A\u001b[2K\u001b[37A\u001b[2K\u001b[24A\u001b[2K\u001b[37A\u001b[2K\u001b[24A\u001b[2K\u001b[25A\u001b[2K\u001b[37A\u001b[2K\u001b[24A\u001b[2K\u001b[37A\u001b[2K\u001b[24A\u001b[2K\u001b[37A\u001b[2K\u001b[24A\u001b[2K\u001b[37A\u001b[2K\u001b[24A\u001b[2K\u001b[24A\u001b[2K\u001b[37A\u001b[2K\u001b[24A\u001b[2K\u001b[37A\u001b[2K\u001b[24A\u001b[2K\u001b[37A\u001b[2K\u001b[25A\u001b[2K\u001b[37A\u001b[2K\u001b[24A\u001b[2K\u001b[37A\u001b[2K\u001b[24A\u001b[2K\u001b[25A\u001b[2K\u001b[24A\u001b[2K\u001b[37A\u001b[2K\u001b[24A\u001b[2K\u001b[24A\u001b[2K\u001b[37A\u001b[2K\u001b[24A\u001b[2K\u001b[25A\u001b[2K\u001b[24A\u001b[2K\u001b[25A\u001b[2K\u001b[24A\u001b[2K\u001b[37A\u001b[2K\u001b[24A\u001b[2K\u001b[37A\u001b[2K\u001b[24A\u001b[2K\u001b[25A\u001b[2K\u001b[37A\u001b[2K\u001b[25A\u001b[2K\u001b[37A\u001b[2K\u001b[25A\u001b[2K\u001b[24A\u001b[2K\u001b[24A\u001b[2K\u001b[25A\u001b[2K\u001b[24A\u001b[2K\u001b[25A\u001b[2K\u001b[24A\u001b[2K\u001b[25A\u001b[2K\u001b[37A\u001b[2K\u001b[24A\u001b[2K\u001b[37A\u001b[2K\u001b[24A\u001b[2K\u001b[25A\u001b[2K\u001b[37A\u001b[2K\u001b[25A\u001b[2K\u001b[24A\u001b[2K\u001b[37A\u001b[2K\u001b[24A\u001b[2K\u001b[37A\u001b[2K\u001b[24A\u001b[2K\u001b[37A\u001b[2K\u001b[25A\u001b[2K\u001b[24A\u001b[2K\u001b[25A\u001b[2K\u001b[24A\u001b[2K\u001b[37A\u001b[2K\u001b[24A\u001b[2K\u001b[37A\u001b[2K\u001b[24A\u001b[2K\u001b[37A\u001b[2K\u001b[24A\u001b[2K\u001b[25A\u001b[2K\u001b[24A\u001b[2K\u001b[37A\u001b[2K\u001b[24A\u001b[2K\u001b[25A\u001b[2K\u001b[37A\u001b[2K\u001b[24A\u001b[2K\u001b[24A\u001b[2K\u001b[25A\u001b[2K\u001b[37A\u001b[2K\u001b[25A\u001b[2K\u001b[24A\u001b[2K\u001b[37A\u001b[2K\u001b[24A\u001b[2K\u001b[37A\u001b[2K\u001b[24A\u001b[2K\u001b[24A\u001b[2K\u001b[25A\u001b[2K\u001b[24A\u001b[2K\u001b[25A\u001b[2K\u001b[37A\u001b[2K\u001b[24A\u001b[2K\u001b[37A\u001b[2K\u001b[24A\u001b[2K\u001b[37A\u001b[2K\u001b[24A\u001b[2K\u001b[24A\u001b[2K\u001b[25A\u001b[2K\u001b[37A\u001b[2K\u001b[25A\u001b[2K\u001b[24A\u001b[2K\u001b[37A\u001b[2K\u001b[37A\u001b[2K\u001b[25A\u001b[2K\u001b[37A\u001b[2K\u001b[25A\u001b[2K\u001b[37A\u001b[2K\u001b[24A\u001b[2K\u001b[37A\u001b[2K\u001b[37A\u001b[2K\u001b[25A\u001b[2K\u001b[37A\u001b[2K\u001b[24A\u001b[2K\u001b[24A\u001b[2K\u001b[24A\u001b[2K\u001b[25A\u001b[2K\u001b[24A\u001b[2K\u001b[25A\u001b[2K\u001b[24A\u001b[2K\u001b[25A\u001b[2K\u001b[37A\u001b[2K\u001b[25A\u001b[2K\u001b[24A\u001b[2K\u001b[24A\u001b[2K\u001b[24A\u001b[2K\u001b[37A\u001b[2K\u001b[24A\u001b[2K\u001b[25A\u001b[2K\u001b[24A\u001b[2K\u001b[37A\u001b[2K\u001b[24A\u001b[2K\u001b[37A\u001b[2K\u001b[25A\u001b[2K\u001b[24A\u001b[2K\u001b[37A\u001b[2K\u001b[24A\u001b[2K\u001b[25A\u001b[2K\u001b[24A\u001b[2K\u001b[25A\u001b[2K\u001b[24A\u001b[2K\u001b[37A\u001b[2K\u001b[25A\u001b[2K\u001b[24A\u001b[2K\u001b[25A\u001b[2K\u001b[24A\u001b[2K\u001b[25A\u001b[2K\u001b[24A\u001b[2K\u001b[25A\u001b[2K\u001b[24A\u001b[2K\u001b[25A\u001b[2K\u001b[24A\u001b[2K\u001b[25A\u001b[2K\u001b[24A\u001b[2K\u001b[25A\u001b[2K\u001b[24A\u001b[2K\u001b[25A\u001b[2K\u001b[24A\u001b[2K\u001b[24A\u001b[2K\u001b[25A\u001b[2K\u001b[24A\u001b[2K\u001b[25A\u001b[2K\u001b[24A\u001b[2K\u001b[25A\u001b[2K\u001b[37A\u001b[2K\u001b[24A\u001b[2K\u001b[25A\u001b[2K\u001b[24A\u001b[2K\u001b[25A\u001b[2K\u001b[24A\u001b[2K\u001b[25A\u001b[2K\u001b[24A\u001b[2K\u001b[25A\u001b[2K\u001b[24A\u001b[2K\u001b[24A\u001b[2K\u001b[37A\u001b[2K\u001b[24A\u001b[2K\u001b[25A\u001b[2K\u001b[24A\u001b[2K\u001b[25A\u001b[2K\u001b[37A\u001b[2K\u001b[24A\u001b[2K\u001b[24A\u001b[2K\u001b[25A\u001b[2K\u001b[24A\u001b[2K\u001b[25A\u001b[2K\u001b[24A\u001b[2K\u001b[37A\u001b[2K\u001b[24A\u001b[2K\u001b[24A\u001b[2K\u001b[25A\u001b[2K\u001b[37A\u001b[2K\u001b[25A\u001b[2K\u001b[24A\u001b[2K\u001b[25A\u001b[2K\u001b[37A\u001b[2K\u001b[25A\u001b[2K\u001b[37A\u001b[2K\u001b[24A\u001b[2K\u001b[24A\u001b[2K\u001b[24A\u001b[2K\u001b[25A\u001b[2K\u001b[37A\u001b[2K\u001b[25A\u001b[2K\u001b[24A\u001b[2K\u001b[25A\u001b[2K\u001b[24A\u001b[2K\u001b[37A\u001b[2K\u001b[24A\u001b[2K\u001b[24A\u001b[2K\u001b[25A\u001b[2K\u001b[24A\u001b[2K\u001b[37A\u001b[2K\u001b[24A\u001b[2K\u001b[24A\u001b[2K\u001b[24A\u001b[2K\u001b[37A\u001b[2K\u001b[24A\u001b[2K\u001b[25A\u001b[2K\u001b[24A\u001b[2K\u001b[25A\u001b[2K\u001b[24A\u001b[2K\u001b[37A\u001b[2K\u001b[24A\u001b[2K\u001b[37A\u001b[2K\u001b[25A\u001b[2K\u001b[24A\u001b[2K\u001b[25A\u001b[2K\u001b[24A\u001b[2K\u001b[25A\u001b[2K\u001b[37A\u001b[2K\u001b[24A\u001b[2K\u001b[37A\u001b[2K\u001b[24A\u001b[2K\u001b[37A\u001b[2K\u001b[24A\u001b[2K\u001b[25A\u001b[2K\u001b[24A\u001b[2K\u001b[25A\u001b[2K\u001b[37A\u001b[2K\u001b[24A\u001b[2K\u001b[37A\u001b[2K\u001b[24A\u001b[2K\u001b[24A\u001b[2K\u001b[37A\u001b[2K\u001b[24A\u001b[2K\u001b[25A\u001b[2K\u001b[37A\u001b[2K\u001b[24A\u001b[2K\u001b[37A\u001b[2K\u001b[24A\u001b[2K\u001b[24A\u001b[2K\u001b[24A\u001b[2K\u001b[37A\u001b[2K\u001b[24A\u001b[2K\u001b[25A\u001b[2K\u001b[24A\u001b[2K\u001b[25A\u001b[2K\u001b[37A\u001b[2K\u001b[25A\u001b[2K\u001b[37A\u001b[2K\u001b[24A\u001b[2K\u001b[24A\u001b[2K\u001b[37A\u001b[2K\u001b[24A\u001b[2K\u001b[24A\u001b[2K\u001b[24A\u001b[2K\u001b[25A\u001b[2K\u001b[24A\u001b[2K\u001b[25A\u001b[2K\u001b[24A\u001b[2K\u001b[37A\u001b[2K\u001b[24A\u001b[2K\u001b[24A\u001b[2K\u001b[25A\u001b[2K\u001b[24A\u001b[2K\u001b[25A\u001b[2K\u001b[24A\u001b[2K\u001b[25A\u001b[2K\u001b[24A\u001b[2K\u001b[24A\u001b[2K\u001b[24A\u001b[2K\u001b[25A\u001b[2K\u001b[24A\u001b[2K\u001b[25A\u001b[2K\u001b[37A\u001b[2K\u001b[25A\u001b[2K\u001b[24A\u001b[2K\u001b[37A\u001b[2K\u001b[24A\u001b[2K\u001b[24A\u001b[2K\u001b[25A\u001b[2K\u001b[24A\u001b[2K\u001b[25A\u001b[2K\u001b[37A\u001b[2K\u001b[25A\u001b[2K\u001b[24A\u001b[2K\u001b[24A\u001b[2K\u001b[37A\u001b[2K\u001b[24A\u001b[2K\u001b[37A\u001b[2K\u001b[25A\u001b[2K\u001b[24A\u001b[2K\u001b[25A\u001b[2K\u001b[24A\u001b[2K\u001b[24A\u001b[2K\u001b[24A\u001b[2K\u001b[24A\u001b[2K\u001b[37A\u001b[2K\u001b[24A\u001b[2K\u001b[25A\u001b[2K\u001b[24A\u001b[2K\u001b[25A\u001b[2K\u001b[24A\u001b[2K\u001b[24A\u001b[2K\u001b[24A\u001b[2K\u001b[24A\u001b[2K\u001b[37A\u001b[2K\u001b[25A\u001b[2K\u001b[24A\u001b[2K\u001b[25A\u001b[2K\u001b[37A\u001b[2K\u001b[24A\u001b[2K\u001b[24A\u001b[2K\u001b[25A\u001b[2K\u001b[24A\u001b[2K\u001b[25A\u001b[2K\u001b[24A\u001b[2K\u001b[37A\u001b[2K\u001b[24A\u001b[2K\u001b[37A\u001b[2K\u001b[37A\u001b[2K\u001b[25A\u001b[2K\u001b[24A\u001b[2K\u001b[24A\u001b[2K\u001b[24A\u001b[2K\u001b[25A\u001b[2K\u001b[24A\u001b[2K\u001b[37A\u001b[2K\u001b[24A\u001b[2K\u001b[24A\u001b[2K\u001b[37A\u001b[2K\u001b[24A\u001b[2K\u001b[25A\u001b[2K\u001b[24A\u001b[2K\u001b[25A\u001b[2K\u001b[24A\u001b[2K\u001b[25A\u001b[2K\u001b[37A\u001b[2K\u001b[24A\u001b[2K\u001b[37A\u001b[2K\u001b[25A\u001b[2K\u001b[24A\u001b[2K\u001b[25A\u001b[2K\u001b[24A\u001b[2K\u001b[25A\u001b[2K\u001b[24A\u001b[2K\u001b[37A\u001b[2K\u001b[24A\u001b[2K\u001b[24A\u001b[2K\u001b[24A\u001b[2K\u001b[37A\u001b[2K\u001b[24A\u001b[2K\u001b[25A\u001b[2K\u001b[24A\u001b[2K\u001b[25A\u001b[2K\u001b[24A\u001b[2K\u001b[24A\u001b[2K\u001b[37A\u001b[2K\u001b[24A\u001b[2K\u001b[25A\u001b[2K\u001b[24A\u001b[2K\u001b[25A\u001b[2K\u001b[24A\u001b[2K\u001b[24A\u001b[2K\u001b[37A\u001b[2K\u001b[24A\u001b[2K\u001b[37A\u001b[2K\u001b[24A\u001b[2K\u001b[25A\u001b[2K\u001b[24A\u001b[2K\u001b[37A\u001b[2K\u001b[24A\u001b[2K\u001b[24A\u001b[2K\u001b[24A\u001b[2K\u001b[25A\u001b[2K\u001b[24A\u001b[2K\u001b[37A\u001b[2K\u001b[24A\u001b[2K\u001b[37A\u001b[2K\u001b[24A\u001b[2K\u001b[24A\u001b[2K\u001b[37A\u001b[2K\u001b[24A\u001b[2K\u001b[25A\u001b[2K\u001b[24A\u001b[2K\u001b[25A\u001b[2K\u001b[24A\u001b[2K\u001b[24A\u001b[2K\u001b[24A\u001b[2K\u001b[25A\u001b[2K\u001b[24A\u001b[2K\u001b[37A\u001b[2K\u001b[24A\u001b[2K\u001b[24A\u001b[2K\u001b[24A\u001b[2K\u001b[25A\u001b[2K\u001b[37A\u001b[2K\u001b[25A\u001b[2K\u001b[37A\u001b[2K\u001b[37A\u001b[2K\u001b[37A\u001b[2K\u001b[25A\u001b[2K\u001b[24A\u001b[2K\u001b[25A\u001b[2K\u001b[37A\u001b[2K\u001b[25A\u001b[2K\u001b[37A\u001b[2K\u001b[25A\u001b[2K\u001b[37A\u001b[2K\u001b[25A\u001b[2K\u001b[25A\u001b[2K\u001b[25A\u001b[2K\u001b[25A\u001b[2K\u001b[37A\u001b[2K\u001b[25A\u001b[2K\u001b[37A\u001b[2K\u001b[25A\u001b[2K\u001b[37A\u001b[2K\u001b[25A\u001b[2K\u001b[37A\u001b[2K\u001b[25A\u001b[2K\u001b[37A\u001b[2K\u001b[25A\u001b[2K\u001b[25A\u001b[2K\u001b[25A\u001b[2K\u001b[25A\u001b[2K\u001b[37A\u001b[2K\u001b[25A\u001b[2K\u001b[37A\u001b[2K\u001b[25A\u001b[2K\u001b[37A\u001b[2K\u001b[37A\u001b[2K\u001b[37A\u001b[2K\u001b[25A\u001b[2K\u001b[25A\u001b[2K\u001b[37A\u001b[2K\u001b[37A\u001b[2K\u001b[25A\u001b[2K\u001b[37A\u001b[2K\u001b[37A\u001b[2K\u001b[37A\u001b[2K\u001b[37A\u001b[2K\u001b[37A\u001b[2K\u001b[37A\u001b[2K\u001b[37A\u001b[2K\u001b[37A\u001b[2K\u001b[37A\u001b[2K\u001b[37A\u001b[2K\u001b[37A\u001b[2K\u001b[37A\u001b[2K\u001b[37A\u001b[2K\u001b[37A\u001b[2K\u001b[37A\u001b[2K\u001b[37A\u001b[2K\u001b[37A\u001b[2K\u001b[37A\u001b[2K\u001b[37A\u001b[2K\u001b[37A\u001b[2K\u001b[37A\u001b[2K\u001b[37A\u001b[2K\u001b[37A\u001b[2K\u001b[37A\u001b[2K\u001b[37A\u001b[2K\u001b[37A\u001b[2K\u001b[37A\u001b[2K\u001b[37A\u001b[2K\u001b[37A\u001b[2K\u001b[37A\u001b[2K\u001b[37A\u001b[2K\u001b[37A\u001b[2K\u001b[37A\u001b[2K\u001b[37A\u001b[2K\u001b[37A\u001b[2K\u001b[37A\u001b[2K\u001b[37A\u001b[2K\u001b[37A\u001b[2K\u001b[37A\u001b[2K\u001b[37A\u001b[2K\u001b[37A\u001b[2K\u001b[37A\u001b[2K\u001b[37A\u001b[2K\u001b[37A\u001b[2K\u001b[37A\u001b[2K\u001b[37A\u001b[2K\u001b[37A\u001b[2K\u001b[37A\u001b[2K\u001b[37A\u001b[2K\u001b[37A\u001b[2K\u001b[37A\u001b[2K\u001b[37A\u001b[2K\u001b[37A\u001b[2K\u001b[37A\u001b[2K\u001b[37A\u001b[2K\u001b[37A\u001b[2K\u001b[37A\u001b[2K\u001b[37A\u001b[2K\u001b[37A\u001b[2K\u001b[37A\u001b[2K\u001b[37A\u001b[2K\u001b[37A\u001b[2K\u001b[37A\u001b[2K\u001b[37A\u001b[2K\u001b[37A\u001b[2K\u001b[37A\u001b[2K\u001b[37A\u001b[2K\u001b[37A\u001b[2K\u001b[37A\u001b[2K\u001b[37A\u001b[2K\u001b[37A\u001b[2K\u001b[37A\u001b[2K\u001b[37A\u001b[2K\u001b[37A\u001b[2K\u001b[37A\u001b[2K\u001b[37A\u001b[2K\u001b[37A\u001b[2K\u001b[37A\u001b[2K\u001b[37A\u001b[2K\u001b[37A\u001b[2K\u001b[37A\u001b[2K\u001b[37A\u001b[2K\u001b[37A\u001b[2K\u001b[37A\u001b[2K\u001b[37A\u001b[2K\u001b[37A\u001b[2K\u001b[37A\u001b[2K\u001b[37A\u001b[2K\u001b[37A\u001b[2K\u001b[37A\u001b[2K\u001b[37A\u001b[2K\u001b[37A\u001b[2K\u001b[37A\u001b[2K\u001b[37A\u001b[2K\u001b[37A\u001b[2K\u001b[37A\u001b[2K\u001b[37A\u001b[2K\u001b[37A\u001b[2K\u001b[37A\u001b[2K\u001b[37A\u001b[2K\u001b[37A\u001b[2K\u001b[37A\u001b[2K\u001b[37A\u001b[2K\u001b[37A\u001b[2K\u001b[37A\u001b[2K\u001b[37A\u001b[2K\u001b[37A\u001b[2K\u001b[37A\u001b[2K\u001b[37A\u001b[2K\u001b[37A\u001b[2K\u001b[37A\u001b[2K\u001b[37A\u001b[2K\u001b[37A\u001b[2KPushing   3.42GB/4.758GB\u001b[37A\u001b[2K\u001b[37A\u001b[2K\u001b[37A\u001b[2K\u001b[37A\u001b[2K\u001b[37A\u001b[2K\u001b[37A\u001b[2K\u001b[37A\u001b[2K\u001b[37A\u001b[2K\u001b[37A\u001b[2K\u001b[37A\u001b[2K\u001b[37A\u001b[2K\u001b[37A\u001b[2K\u001b[37A\u001b[2K\u001b[37A\u001b[2K\u001b[37A\u001b[2K\u001b[37A\u001b[2K\u001b[37A\u001b[2K\u001b[37A\u001b[2K\u001b[37A\u001b[2K\u001b[37A\u001b[2K\u001b[37A\u001b[2K\u001b[37A\u001b[2K\u001b[37A\u001b[2K\u001b[37A\u001b[2K\u001b[37A\u001b[2K\u001b[37A\u001b[2K\u001b[37A\u001b[2K\u001b[37A\u001b[2K\u001b[37A\u001b[2K\u001b[37A\u001b[2K\u001b[37A\u001b[2K\u001b[37A\u001b[2K\u001b[37A\u001b[2K\u001b[37A\u001b[2K\u001b[37A\u001b[2K\u001b[37A\u001b[2K\u001b[37A\u001b[2K\u001b[37A\u001b[2K\u001b[37A\u001b[2K\u001b[37A\u001b[2K\u001b[37A\u001b[2K\u001b[37A\u001b[2K\u001b[37A\u001b[2K\u001b[37A\u001b[2K\u001b[37A\u001b[2K\u001b[37A\u001b[2K\u001b[37A\u001b[2K\u001b[37A\u001b[2K\u001b[37A\u001b[2K\u001b[37A\u001b[2K\u001b[37A\u001b[2K\u001b[37A\u001b[2K\u001b[37A\u001b[2K\u001b[37A\u001b[2K\u001b[37A\u001b[2K\u001b[37A\u001b[2K\u001b[37A\u001b[2K\u001b[37A\u001b[2K\u001b[37A\u001b[2K\u001b[37A\u001b[2K\u001b[37A\u001b[2K\u001b[37A\u001b[2K\u001b[37A\u001b[2K\u001b[37A\u001b[2K\u001b[37A\u001b[2K\u001b[37A\u001b[2K\u001b[37A\u001b[2K\u001b[37A\u001b[2K\u001b[37A\u001b[2K\u001b[37A\u001b[2K\u001b[37A\u001b[2K\u001b[37A\u001b[2K\u001b[37A\u001b[2K\u001b[37A\u001b[2K\u001b[37A\u001b[2K\u001b[37A\u001b[2K\u001b[37A\u001b[2K\u001b[37A\u001b[2K\u001b[37A\u001b[2K\u001b[37A\u001b[2K\u001b[37A\u001b[2K\u001b[37A\u001b[2K\u001b[37A\u001b[2K\u001b[37A\u001b[2K\u001b[37A\u001b[2K\u001b[37A\u001b[2K\u001b[37A\u001b[2K\u001b[37A\u001b[2K\u001b[37A\u001b[2K\u001b[37A\u001b[2K\u001b[37A\u001b[2K\u001b[37A\u001b[2K\u001b[37A\u001b[2K\u001b[37A\u001b[2K\u001b[37A\u001b[2K\u001b[37A\u001b[2K\u001b[37A\u001b[2K\u001b[37A\u001b[2K\u001b[37A\u001b[2K\u001b[37A\u001b[2K\u001b[37A\u001b[2K\u001b[37A\u001b[2K\u001b[37A\u001b[2K\u001b[37A\u001b[2K\u001b[37A\u001b[2K\u001b[37A\u001b[2K\u001b[37A\u001b[2K\u001b[37A\u001b[2K\u001b[37A\u001b[2K\u001b[37A\u001b[2K\u001b[37A\u001b[2K\u001b[37A\u001b[2K\u001b[37A\u001b[2K\u001b[37A\u001b[2K\u001b[37A\u001b[2K\u001b[37A\u001b[2K\u001b[37A\u001b[2K\u001b[37A\u001b[2K\u001b[37A\u001b[2K\u001b[37A\u001b[2K\u001b[37A\u001b[2K\u001b[37A\u001b[2K\u001b[37A\u001b[2K\u001b[37A\u001b[2K\u001b[37A\u001b[2K\u001b[37A\u001b[2K\u001b[37A\u001b[2K\u001b[37A\u001b[2K\u001b[37A\u001b[2K\u001b[37A\u001b[2K\u001b[37A\u001b[2K\u001b[37A\u001b[2K\u001b[37A\u001b[2K\u001b[37A\u001b[2K\u001b[37A\u001b[2K\u001b[37A\u001b[2K\u001b[37A\u001b[2K\u001b[37A\u001b[2K\u001b[37A\u001b[2K\u001b[37A\u001b[2K\u001b[37A\u001b[2K\u001b[37A\u001b[2K\u001b[37A\u001b[2K\u001b[37A\u001b[2K\u001b[37A\u001b[2K\u001b[37A\u001b[2K\u001b[37A\u001b[2K\u001b[37A\u001b[2K\u001b[37A\u001b[2K\u001b[37A\u001b[2K\u001b[37A\u001b[2K\u001b[37A\u001b[2K\u001b[37A\u001b[2K\u001b[37A\u001b[2K\u001b[37A\u001b[2K\u001b[37A\u001b[2K\u001b[37A\u001b[2K\u001b[37A\u001b[2K\u001b[37A\u001b[2K\u001b[37A\u001b[2K\u001b[37A\u001b[2K\u001b[37A\u001b[2K\u001b[37A\u001b[2K\u001b[37A\u001b[2K\u001b[37A\u001b[2K\u001b[37A\u001b[2K\u001b[37A\u001b[2K\u001b[37A\u001b[2K\u001b[37A\u001b[2K\u001b[37A\u001b[2K\u001b[37A\u001b[2K\u001b[37A\u001b[2K\u001b[37A\u001b[2K\u001b[37A\u001b[2K\u001b[37A\u001b[2K\u001b[37A\u001b[2K\u001b[37A\u001b[2K\u001b[37A\u001b[2K\u001b[37A\u001b[2K\u001b[37A\u001b[2K\u001b[37A\u001b[2K\u001b[37A\u001b[2KPushing  3.999GB/4.758GB\u001b[37A\u001b[2K\u001b[37A\u001b[2K\u001b[37A\u001b[2K\u001b[37A\u001b[2K\u001b[37A\u001b[2K\u001b[37A\u001b[2K\u001b[37A\u001b[2K\u001b[37A\u001b[2K\u001b[37A\u001b[2K\u001b[37A\u001b[2K\u001b[37A\u001b[2K\u001b[37A\u001b[2K\u001b[37A\u001b[2K\u001b[37A\u001b[2K\u001b[37A\u001b[2K\u001b[37A\u001b[2K\u001b[37A\u001b[2K\u001b[37A\u001b[2K\u001b[37A\u001b[2K\u001b[37A\u001b[2K\u001b[37A\u001b[2K\u001b[37A\u001b[2K\u001b[37A\u001b[2K\u001b[37A\u001b[2K\u001b[37A\u001b[2K\u001b[37A\u001b[2K\u001b[37A\u001b[2K\u001b[37A\u001b[2K\u001b[37A\u001b[2K\u001b[37A\u001b[2K\u001b[37A\u001b[2K\u001b[37A\u001b[2K\u001b[37A\u001b[2K\u001b[37A\u001b[2K\u001b[37A\u001b[2K\u001b[37A\u001b[2K\u001b[37A\u001b[2K\u001b[37A\u001b[2K\u001b[37A\u001b[2K\u001b[37A\u001b[2K\u001b[37A\u001b[2K\u001b[37A\u001b[2K\u001b[37A\u001b[2K\u001b[37A\u001b[2K\u001b[37A\u001b[2K\u001b[37A\u001b[2K\u001b[37A\u001b[2K\u001b[37A\u001b[2K\u001b[37A\u001b[2K\u001b[37A\u001b[2K\u001b[37A\u001b[2K\u001b[37A\u001b[2K\u001b[37A\u001b[2K\u001b[37A\u001b[2K\u001b[37A\u001b[2K\u001b[37A\u001b[2K\u001b[37A\u001b[2K\u001b[37A\u001b[2K\u001b[37A\u001b[2K\u001b[37A\u001b[2K\u001b[37A\u001b[2K\u001b[37A\u001b[2K\u001b[37A\u001b[2K\u001b[37A\u001b[2K\u001b[37A\u001b[2K\u001b[37A\u001b[2K\u001b[37A\u001b[2K\u001b[37A\u001b[2K\u001b[37A\u001b[2K\u001b[37A\u001b[2K\u001b[37A\u001b[2K\u001b[37A\u001b[2K\u001b[37A\u001b[2K\u001b[37A\u001b[2K\u001b[37A\u001b[2K\u001b[37A\u001b[2K\u001b[37A\u001b[2K\u001b[37A\u001b[2K\u001b[37A\u001b[2K\u001b[37A\u001b[2K\u001b[37A\u001b[2K\u001b[37A\u001b[2K\u001b[37A\u001b[2K\u001b[37A\u001b[2K\u001b[37A\u001b[2K\u001b[37A\u001b[2K\u001b[37A\u001b[2K\u001b[37A\u001b[2K\u001b[37A\u001b[2K\u001b[37A\u001b[2K\u001b[37A\u001b[2K\u001b[37A\u001b[2K\u001b[37A\u001b[2K\u001b[37A\u001b[2K\u001b[37A\u001b[2K\u001b[37A\u001b[2K\u001b[37A\u001b[2K\u001b[37A\u001b[2K\u001b[37A\u001b[2K\u001b[37A\u001b[2K\u001b[37A\u001b[2K\u001b[37A\u001b[2K\u001b[37A\u001b[2K\u001b[37A\u001b[2K\u001b[37A\u001b[2K\u001b[37A\u001b[2K\u001b[37A\u001b[2K\u001b[37A\u001b[2K\u001b[37A\u001b[2K\u001b[37A\u001b[2K\u001b[37A\u001b[2K\u001b[37A\u001b[2K\u001b[37A\u001b[2K\u001b[37A\u001b[2K\u001b[37A\u001b[2K\u001b[37A\u001b[2K\u001b[37A\u001b[2K\u001b[37A\u001b[2K\u001b[37A\u001b[2K\u001b[37A\u001b[2K\u001b[37A\u001b[2K\u001b[37A\u001b[2K\u001b[37A\u001b[2K\u001b[37A\u001b[2K\u001b[37A\u001b[2K\u001b[37A\u001b[2K\u001b[37A\u001b[2K\u001b[37A\u001b[2K\u001b[37A\u001b[2K\u001b[37A\u001b[2K\u001b[37A\u001b[2K\u001b[37A\u001b[2K\u001b[37A\u001b[2K\u001b[37A\u001b[2K\u001b[37A\u001b[2K\u001b[37A\u001b[2K\u001b[37A\u001b[2K\u001b[37A\u001b[2K\u001b[37A\u001b[2K\u001b[37A\u001b[2K\u001b[37A\u001b[2K\u001b[37A\u001b[2K\u001b[37A\u001b[2K\u001b[37A\u001b[2K\u001b[37A\u001b[2K\u001b[37A\u001b[2K\u001b[37A\u001b[2K\u001b[37A\u001b[2K\u001b[37A\u001b[2K\u001b[37A\u001b[2K\u001b[37A\u001b[2K\u001b[37A\u001b[2K\u001b[37A\u001b[2K\u001b[37A\u001b[2K\u001b[37A\u001b[2K\u001b[37A\u001b[2K\u001b[37A\u001b[2K\u001b[37A\u001b[2K\u001b[37A\u001b[2K\u001b[37A\u001b[2K\u001b[37A\u001b[2K\u001b[37A\u001b[2K\u001b[37A\u001b[2K\u001b[37A\u001b[2K\u001b[37A\u001b[2K\u001b[37A\u001b[2K\u001b[37A\u001b[2K\u001b[37A\u001b[2K\u001b[37A\u001b[2K\u001b[37A\u001b[2K\u001b[37A\u001b[2K\u001b[37A\u001b[2K\u001b[37A\u001b[2K\u001b[37A\u001b[2K\u001b[37A\u001b[2K\u001b[37A\u001b[2K\u001b[37A\u001b[2K\u001b[37A\u001b[2K\u001b[37A\u001b[2K\u001b[37A\u001b[2K\u001b[37A\u001b[2K\u001b[37A\u001b[2K\u001b[37A\u001b[2K\u001b[37A\u001b[2K\u001b[37A\u001b[2K\u001b[37A\u001b[2K\u001b[37A\u001b[2K\u001b[37A\u001b[2K\u001b[37A\u001b[2K\u001b[37A\u001b[2K\u001b[37A\u001b[2K\u001b[37A\u001b[2K\u001b[37A\u001b[2K\u001b[37A\u001b[2K\u001b[37A\u001b[2K\u001b[37A\u001b[2K\u001b[37A\u001b[2K\u001b[37A\u001b[2K\u001b[37A\u001b[2K\u001b[37A\u001b[2K\u001b[37A\u001b[2K\u001b[37A\u001b[2K\u001b[37A\u001b[2K\u001b[37A\u001b[2K\u001b[37A\u001b[2K\u001b[37A\u001b[2K\u001b[37A\u001b[2K\u001b[37A\u001b[2K\u001b[37A\u001b[2K\u001b[37A\u001b[2K\u001b[37A\u001b[2K\u001b[37A\u001b[2K\u001b[37A\u001b[2K\u001b[37A\u001b[2K\u001b[37A\u001b[2K\u001b[37A\u001b[2K\u001b[37A\u001b[2K\u001b[37A\u001b[2K\u001b[37A\u001b[2K\u001b[37A\u001b[2K\u001b[37A\u001b[2K\u001b[37A\u001b[2K\u001b[37A\u001b[2K\u001b[37A\u001b[2K\u001b[37A\u001b[2K\u001b[37A\u001b[2K\u001b[37A\u001b[2K\u001b[37A\u001b[2K\u001b[37A\u001b[2K\u001b[37A\u001b[2K\u001b[37A\u001b[2K\u001b[37A\u001b[2K\u001b[37A\u001b[2K\u001b[37A\u001b[2K\u001b[37A\u001b[2K\u001b[37A\u001b[2K\u001b[37A\u001b[2K\u001b[37A\u001b[2K\u001b[37A\u001b[2K\u001b[37A\u001b[2K\u001b[37A\u001b[2K\u001b[37A\u001b[2K\u001b[37A\u001b[2K\u001b[37A\u001b[2K\u001b[37A\u001b[2K\u001b[37A\u001b[2K\u001b[37A\u001b[2K\u001b[37A\u001b[2K\u001b[37A\u001b[2K\u001b[37A\u001b[2K\u001b[37A\u001b[2K\u001b[37A\u001b[2K\u001b[37A\u001b[2K\u001b[37A\u001b[2K\u001b[37A\u001b[2K\u001b[37A\u001b[2K\u001b[37A\u001b[2K\u001b[37A\u001b[2K\u001b[37A\u001b[2K\u001b[37A\u001b[2K\u001b[37A\u001b[2K\u001b[37A\u001b[2K\u001b[37A\u001b[2K\u001b[37A\u001b[2K\u001b[37A\u001b[2K\u001b[37A\u001b[2K\u001b[37A\u001b[2K\u001b[37A\u001b[2K\u001b[37A\u001b[2K\u001b[37A\u001b[2K\u001b[37A\u001b[2K\u001b[37A\u001b[2K\u001b[37A\u001b[2K\u001b[37A\u001b[2K\u001b[37A\u001b[2K\u001b[37A\u001b[2K\u001b[37A\u001b[2K\u001b[37A\u001b[2K\u001b[37A\u001b[2K\u001b[37A\u001b[2K\u001b[37A\u001b[2K\u001b[37A\u001b[2K\u001b[37A\u001b[2K\u001b[37A\u001b[2K\u001b[37A\u001b[2K\u001b[37A\u001b[2K\u001b[37A\u001b[2K\u001b[37A\u001b[2K\u001b[37A\u001b[2K\u001b[37A\u001b[2K\u001b[37A\u001b[2K\u001b[37A\u001b[2K\u001b[37A\u001b[2K\u001b[37A\u001b[2K\u001b[37A\u001b[2K\u001b[37A\u001b[2K\u001b[37A\u001b[2K\u001b[37A\u001b[2Klatest: digest: sha256:cb74ab256f8b9a70f859a1a98ab95407456f73e865822e62bbaf8473db7502bc size: 8103\n"
     ]
    }
   ],
   "source": [
    "!docker tag {algorithm_name} {ecr_image}\n",
    "!docker push {ecr_image}"
   ]
  }
 ],
 "metadata": {
  "kernelspec": {
   "display_name": "conda_python3",
   "language": "python",
   "name": "conda_python3"
  },
  "language_info": {
   "codemirror_mode": {
    "name": "ipython",
    "version": 3
   },
   "file_extension": ".py",
   "mimetype": "text/x-python",
   "name": "python",
   "nbconvert_exporter": "python",
   "pygments_lexer": "ipython3",
   "version": "3.10.12"
  }
 },
 "nbformat": 4,
 "nbformat_minor": 5
}
