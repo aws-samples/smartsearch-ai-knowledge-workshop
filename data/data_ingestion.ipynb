{
 "cells": [
  {
   "cell_type": "markdown",
   "id": "ade446b9-3787-412b-bdc3-c85131c01c01",
   "metadata": {},
   "source": [
    "# Data Ingestion\n",
    "Ingest knowledge to vector database for semantic search. We will ingest data from `qa_samples.csv`."
   ]
  },
  {
   "cell_type": "markdown",
   "id": "31bb46ea-08a1-4ca7-b9da-e5987e6df449",
   "metadata": {},
   "source": [
    "*Note*\n",
    "- You must grant this notebook instance with access of SageMaker `huggingface-inference-eb` invocation access\n",
    "- You must grant this notebook instance with access of `VectorDBMasterUserCredentials` and `OpenSearchHostURL` in SecretsManager read access\n"
   ]
  },
  {
   "cell_type": "code",
   "execution_count": 18,
   "id": "e0ec17e5-5e9b-4773-aa65-bb4772635d9e",
   "metadata": {
    "tags": []
   },
   "outputs": [
    {
     "data": {
      "text/html": [
       "<div>\n",
       "<style scoped>\n",
       "    .dataframe tbody tr th:only-of-type {\n",
       "        vertical-align: middle;\n",
       "    }\n",
       "\n",
       "    .dataframe tbody tr th {\n",
       "        vertical-align: top;\n",
       "    }\n",
       "\n",
       "    .dataframe thead th {\n",
       "        text-align: right;\n",
       "    }\n",
       "</style>\n",
       "<table border=\"1\" class=\"dataframe\">\n",
       "  <thead>\n",
       "    <tr style=\"text-align: right;\">\n",
       "      <th></th>\n",
       "      <th>question</th>\n",
       "      <th>answers</th>\n",
       "    </tr>\n",
       "  </thead>\n",
       "  <tbody>\n",
       "    <tr>\n",
       "      <th>0</th>\n",
       "      <td>what are the main quality control methods for ...</td>\n",
       "      <td>The main quality control methods for machined ...</td>\n",
       "    </tr>\n",
       "    <tr>\n",
       "      <th>1</th>\n",
       "      <td>What are the common casting defects in foundry?</td>\n",
       "      <td>Some common casting defects in foundry include...</td>\n",
       "    </tr>\n",
       "    <tr>\n",
       "      <th>2</th>\n",
       "      <td>What are the main causes of low productivity ...</td>\n",
       "      <td>The main causes of low productivity in assembl...</td>\n",
       "    </tr>\n",
       "    <tr>\n",
       "      <th>3</th>\n",
       "      <td>What are some key points for improving qualit...</td>\n",
       "      <td>Some key points for improving quality in manuf...</td>\n",
       "    </tr>\n",
       "    <tr>\n",
       "      <th>4</th>\n",
       "      <td>What are some common causes of accidents in i...</td>\n",
       "      <td>Common causes of accidents in industrial workp...</td>\n",
       "    </tr>\n",
       "    <tr>\n",
       "      <th>5</th>\n",
       "      <td>What are some key factors to consider for pla...</td>\n",
       "      <td>Some key factors for plant layout and material...</td>\n",
       "    </tr>\n",
       "    <tr>\n",
       "      <th>6</th>\n",
       "      <td>What are some common causes of equipment fail...</td>\n",
       "      <td>Common causes of equipment failure include:\\n\\...</td>\n",
       "    </tr>\n",
       "    <tr>\n",
       "      <th>7</th>\n",
       "      <td>What are some key benefits of using automatio...</td>\n",
       "      <td>Benefits of automation in manufacturing includ...</td>\n",
       "    </tr>\n",
       "    <tr>\n",
       "      <th>8</th>\n",
       "      <td>What types of lubricants are commonly used in...</td>\n",
       "      <td>Common types of industrial machine lubricants ...</td>\n",
       "    </tr>\n",
       "    <tr>\n",
       "      <th>9</th>\n",
       "      <td>What are some key steps when troubleshooting e...</td>\n",
       "      <td>Key troubleshooting steps include:\\n\\n- Identi...</td>\n",
       "    </tr>\n",
       "    <tr>\n",
       "      <th>10</th>\n",
       "      <td>What are some best practices for industrial en...</td>\n",
       "      <td>Best practices for industrial energy managemen...</td>\n",
       "    </tr>\n",
       "    <tr>\n",
       "      <th>11</th>\n",
       "      <td>What are some key performance indicators (KPIs...</td>\n",
       "      <td>Common manufacturing KPIs include:\\n\\n- OEE (O...</td>\n",
       "    </tr>\n",
       "    <tr>\n",
       "      <th>12</th>\n",
       "      <td>What are some key steps in planning a maintena...</td>\n",
       "      <td>Key steps in planning a maintenance shutdown i...</td>\n",
       "    </tr>\n",
       "    <tr>\n",
       "      <th>13</th>\n",
       "      <td>What are some key steps when conducting root c...</td>\n",
       "      <td>Steps for root cause analysis include: \\n\\n- G...</td>\n",
       "    </tr>\n",
       "    <tr>\n",
       "      <th>14</th>\n",
       "      <td>How can manufacturers optimize production sche...</td>\n",
       "      <td>Ways to optimize production scheduling include...</td>\n",
       "    </tr>\n",
       "    <tr>\n",
       "      <th>15</th>\n",
       "      <td>What are some key roles and responsibilities o...</td>\n",
       "      <td>Key manufacturing management roles include:\\n\\...</td>\n",
       "    </tr>\n",
       "    <tr>\n",
       "      <th>16</th>\n",
       "      <td>What are some ways to create a culture of safe...</td>\n",
       "      <td>Ways to cultivate a culture of safety include:...</td>\n",
       "    </tr>\n",
       "    <tr>\n",
       "      <th>17</th>\n",
       "      <td>What are some common challenges faced by manuf...</td>\n",
       "      <td>Common manufacturing challenges include:\\n\\n- ...</td>\n",
       "    </tr>\n",
       "    <tr>\n",
       "      <th>18</th>\n",
       "      <td>What are some strategies manufacturers can lev...</td>\n",
       "      <td>Strategies for manufacturing growth and innova...</td>\n",
       "    </tr>\n",
       "  </tbody>\n",
       "</table>\n",
       "</div>"
      ],
      "text/plain": [
       "                                             question  \\\n",
       "0   what are the main quality control methods for ...   \n",
       "1     What are the common casting defects in foundry?   \n",
       "2    What are the main causes of low productivity ...   \n",
       "3    What are some key points for improving qualit...   \n",
       "4    What are some common causes of accidents in i...   \n",
       "5    What are some key factors to consider for pla...   \n",
       "6    What are some common causes of equipment fail...   \n",
       "7    What are some key benefits of using automatio...   \n",
       "8    What types of lubricants are commonly used in...   \n",
       "9   What are some key steps when troubleshooting e...   \n",
       "10  What are some best practices for industrial en...   \n",
       "11  What are some key performance indicators (KPIs...   \n",
       "12  What are some key steps in planning a maintena...   \n",
       "13  What are some key steps when conducting root c...   \n",
       "14  How can manufacturers optimize production sche...   \n",
       "15  What are some key roles and responsibilities o...   \n",
       "16  What are some ways to create a culture of safe...   \n",
       "17  What are some common challenges faced by manuf...   \n",
       "18  What are some strategies manufacturers can lev...   \n",
       "\n",
       "                                              answers  \n",
       "0   The main quality control methods for machined ...  \n",
       "1   Some common casting defects in foundry include...  \n",
       "2   The main causes of low productivity in assembl...  \n",
       "3   Some key points for improving quality in manuf...  \n",
       "4   Common causes of accidents in industrial workp...  \n",
       "5   Some key factors for plant layout and material...  \n",
       "6   Common causes of equipment failure include:\\n\\...  \n",
       "7   Benefits of automation in manufacturing includ...  \n",
       "8   Common types of industrial machine lubricants ...  \n",
       "9   Key troubleshooting steps include:\\n\\n- Identi...  \n",
       "10  Best practices for industrial energy managemen...  \n",
       "11  Common manufacturing KPIs include:\\n\\n- OEE (O...  \n",
       "12  Key steps in planning a maintenance shutdown i...  \n",
       "13  Steps for root cause analysis include: \\n\\n- G...  \n",
       "14  Ways to optimize production scheduling include...  \n",
       "15  Key manufacturing management roles include:\\n\\...  \n",
       "16  Ways to cultivate a culture of safety include:...  \n",
       "17  Common manufacturing challenges include:\\n\\n- ...  \n",
       "18  Strategies for manufacturing growth and innova...  "
      ]
     },
     "execution_count": 18,
     "metadata": {},
     "output_type": "execute_result"
    }
   ],
   "source": [
    "import pandas as pd\n",
    "\n",
    "qas = pd.read_csv('qa_samples.csv', usecols = ['question', 'answers'])\n",
    "\n",
    "qas"
   ]
  },
  {
   "cell_type": "markdown",
   "id": "40cb1065-7f0b-43e0-9968-c19bf4f50d44",
   "metadata": {},
   "source": [
    "## Ingest into Vector Database"
   ]
  },
  {
   "cell_type": "markdown",
   "id": "1e6972b7-bf0d-47bd-a8c1-761951d3eaae",
   "metadata": {},
   "source": [
    "### Create Opensearch Index\n",
    "\n",
    "We will create index with 1 vector column `answers_vector` for semantic search."
   ]
  },
  {
   "cell_type": "code",
   "execution_count": 26,
   "id": "cf8796f4-3d66-493c-b67a-8fec342d016f",
   "metadata": {
    "tags": []
   },
   "outputs": [],
   "source": [
    "# The name of index\n",
    "import boto3, json\n",
    "import sagemaker\n",
    "import requests\n",
    "\n",
    "sm_client = boto3.client('secretsmanager')\n",
    "def get_auth():\n",
    "    user_json = sm_client.get_secret_value(SecretId='VectorDBMasterUserCredentials')['SecretString']\n",
    "    data= json.loads(user_json)\n",
    "    return (data.get('username'), data.get('password'))\n",
    "\n",
    "def get_host():\n",
    "    host_json = sm_client.get_secret_value(SecretId='OpenSearchHostURL')['SecretString']\n",
    "    data= json.loads(host_json)\n",
    "    es_host_name = data.get('host')\n",
    "    es_host_name = es_host_name+'/' if es_host_name[-1] != '/' else es_host_name # cluster endpoint, for example: my-test-domain.us-east-1.es.amazonaws.com/\n",
    "    return f'https://{es_host_name}'\n",
    "\n",
    "awsauth = get_auth()\n",
    "host = get_host()\n",
    "\n",
    "# create index\n",
    "index_name = 'semantic_search_knowledge_index'\n",
    "v_dimension = 768 # Embbeding vector dimension\n",
    "\n",
    "headers = { \"Content-Type\": \"application/json\" }\n",
    "\n",
    "payloads = {\n",
    "    \"settings\": {\n",
    "       \"index.knn\": True,\n",
    "        \"knn.space_type\": \"l2\"\n",
    "   },\n",
    "    \"mappings\": {\n",
    "        \"properties\": {\n",
    "            \"question_vector\": {\n",
    "                \"type\": \"knn_vector\",\n",
    "                \"dimension\": v_dimension,\n",
    "                \"method\": {\n",
    "                    \"name\": \"hnsw\",\n",
    "                    \"space_type\": \"l2\",\n",
    "                    \"engine\": \"nmslib\",\n",
    "                    \"parameters\": {\n",
    "                        \"ef_construction\": 256,\n",
    "                        \"m\": 32\n",
    "                    }\n",
    "                }\n",
    "            },\n",
    "            \"question\": {\n",
    "                \"type\": \"text\"\n",
    "            },\n",
    "            \"answers\": {\n",
    "                \"type\": \"text\"\n",
    "            }\n",
    "        }\n",
    "    }\n",
    "}\n",
    "\n",
    "# Create Index\n",
    "r = requests.put(host+index_name, auth=awsauth, headers=headers, json=payloads)"
   ]
  },
  {
   "cell_type": "markdown",
   "id": "1091d09b-558a-4c2d-a7d7-1a3d6234543b",
   "metadata": {},
   "source": [
    "### Remove the Opensearch Index(Optinal)"
   ]
  },
  {
   "cell_type": "code",
   "execution_count": 25,
   "id": "b86bee59-71e0-4240-973d-b1e41f58d359",
   "metadata": {
    "tags": []
   },
   "outputs": [
    {
     "data": {
      "text/plain": [
       "<Response [404]>"
      ]
     },
     "execution_count": 25,
     "metadata": {},
     "output_type": "execute_result"
    }
   ],
   "source": [
    "## You can remove the index for recreation\n",
    "requests.delete(host+index_name, auth=awsauth, headers=headers)"
   ]
  },
  {
   "cell_type": "markdown",
   "id": "dc8b14f7-a65e-4601-9733-56a18b4af5e7",
   "metadata": {},
   "source": [
    "### Load from prepared doc"
   ]
  },
  {
   "cell_type": "markdown",
   "id": "10a43ed3-e487-4a19-9eef-f4ebca9c190a",
   "metadata": {
    "tags": []
   },
   "source": [
    "Read from csv file"
   ]
  },
  {
   "cell_type": "markdown",
   "id": "d804b2e8-1ec1-41a3-a5de-c2a68f74809f",
   "metadata": {
    "tags": []
   },
   "source": [
    "### Ingest data with embeddings\n",
    "For each record in 'qa_smaples.csv' file,\n",
    "- Firstly, get inference from embeddings.\n",
    "- Secondly, post data to vector db"
   ]
  },
  {
   "cell_type": "code",
   "execution_count": 11,
   "id": "1c84b60c-81b4-40e8-8046-0a9c96b0e580",
   "metadata": {
    "tags": []
   },
   "outputs": [],
   "source": [
    "!pip install -q tqdm"
   ]
  },
  {
   "cell_type": "code",
   "execution_count": 28,
   "id": "6f66e76a-c3a3-4ce4-b8c3-1840645518a8",
   "metadata": {
    "tags": []
   },
   "outputs": [],
   "source": [
    "import json\n",
    "\n",
    "endpoint_name = 'RAGSearchWithLLMEndpoint' # The name of embbeding model endpoint\n",
    "client = boto3.client('sagemaker-runtime')\n",
    "\n",
    "url = host+'_bulk'\n",
    "def generate_vector(sentence):\n",
    "    try:\n",
    "        sentence = sentence if len(sentence) < 400 else sentence[:400]\n",
    "        response = client.invoke_endpoint(\n",
    "                        EndpointName=endpoint_name,\n",
    "                        Body=json.dumps({'inputs':[sentence]}),\n",
    "                        ContentType='application/json',\n",
    "                    )\n",
    "        vector = json.loads(response['Body'].read())\n",
    "        return vector[0][0][0]\n",
    "    except Exception as e:\n",
    "        print(e)\n",
    "        return [-1000 for _ in range(v_dimension)]\n"
   ]
  },
  {
   "cell_type": "code",
   "execution_count": 22,
   "id": "3868713f-0030-4cf9-a683-840cffa6c4aa",
   "metadata": {
    "tags": []
   },
   "outputs": [],
   "source": [
    "from tqdm import tqdm\n",
    "from time import sleep\n",
    "\n",
    "def import_single_row(payload):\n",
    "    question_vector = generate_vector(payload['question'])\n",
    "    payload['question_vector'] = question_vector\n",
    "    \n",
    "    first = json.dumps({ \"index\": { \"_index\": index_name} }, ensure_ascii=False) + \"\\n\"\n",
    "    second = json.dumps(payload, ensure_ascii=False) + \"\\n\"\n",
    "    payloads = first + second\n",
    "    r = requests.post(url, auth=awsauth, headers=headers, data=payloads.encode()) # requests.get, post, and delete have similar syntax\n",
    "\n",
    "\n",
    "def import_data(json_array):\n",
    "    for payload in tqdm(json_array):\n",
    "        import_single_row(payload)\n",
    "        sleep(0.01)"
   ]
  },
  {
   "cell_type": "code",
   "execution_count": 29,
   "id": "9dd029cc-9a0d-480f-b6b7-4de5fe8e72bd",
   "metadata": {
    "tags": []
   },
   "outputs": [
    {
     "name": "stderr",
     "output_type": "stream",
     "text": [
      "100%|██████████| 19/19 [00:02<00:00,  8.26it/s]\n"
     ]
    }
   ],
   "source": [
    "import csv\n",
    "import json\n",
    "\n",
    "json_array=[]\n",
    "with open('qa_samples.csv', encoding = 'utf-8') as csv_file_handler:\n",
    "    csv_reader = csv.DictReader(csv_file_handler)\n",
    "    for row in csv_reader:\n",
    "        json_array.append(row)\n",
    "        \n",
    "import_data(json_array)"
   ]
  },
  {
   "cell_type": "code",
   "execution_count": null,
   "id": "81f22955-fd88-4d2c-bbcf-bb4e718f0c8c",
   "metadata": {},
   "outputs": [],
   "source": []
  }
 ],
 "metadata": {
  "kernelspec": {
   "display_name": "conda_python3",
   "language": "python",
   "name": "conda_python3"
  },
  "language_info": {
   "codemirror_mode": {
    "name": "ipython",
    "version": 3
   },
   "file_extension": ".py",
   "mimetype": "text/x-python",
   "name": "python",
   "nbconvert_exporter": "python",
   "pygments_lexer": "ipython3",
   "version": "3.10.12"
  }
 },
 "nbformat": 4,
 "nbformat_minor": 5
}
